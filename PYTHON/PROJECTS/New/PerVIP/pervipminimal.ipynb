{
 "cells": [
  {
   "cell_type": "code",
   "execution_count": 1,
   "metadata": {},
   "outputs": [
    {
     "name": "stdout",
     "output_type": "stream",
     "text": [
      "Nhap so luong note: \n",
      "['1', '2', '3', '1', '2', '3']\n",
      "[12, 14, 15, 6, 4, 2]\n",
      "['1', '2', '3', '1', '2', '3', 'x']\n",
      "[12, 14, 15, 6, 4, 2, 47]\n",
      "['1', '2', '3', '1', '2', '3', 'x']\n",
      "[12, 14, 15, 6, 4, 2, 47]\n",
      "['1', '1', '1', '1', '1', '1', '1', '1', '1', '1', '1', '1', '2', '2', '2', '2', '2', '2', '2', '2', '2', '2', '2', '2', '2', '2', '3', '3', '3', '3', '3', '3', '3', '3', '3', '3', '3', '3', '3', '3', '3', '1', '1', '1', '1', '1', '1', '2', '2', '2', '2', '3', '3', 'x', 'x', 'x', 'x', 'x', 'x', 'x', 'x', 'x', 'x', 'x', 'x', 'x', 'x', 'x', 'x', 'x', 'x', 'x', 'x', 'x', 'x', 'x', 'x', 'x', 'x', 'x', 'x', 'x', 'x', 'x', 'x', 'x', 'x', 'x', 'x', 'x', 'x', 'x', 'x', 'x', 'x', 'x', 'x', 'x', 'x', 'x']\n"
     ]
    }
   ],
   "source": [
    "notearray = []\n",
    "def chooseper(notearr):\n",
    "    call = 1\n",
    "    while call == 1:\n",
    "        noteper = []\n",
    "        print('Nhap so luong note: ')\n",
    "        numnote = int(input())\n",
    "        for i in range(numnote):\n",
    "            notearr.append(input())\n",
    "        print(notearr)\n",
    "        \n",
    "        for j in range(len(notearr)):\n",
    "            noteper.append(int(input()))\n",
    "        print(noteper)\n",
    "        if sum(noteper) > 100:\n",
    "            print('Wrong')\n",
    "            call = 1\n",
    "        else:\n",
    "            call = 0\n",
    "    notearr.append('x')\n",
    "    print(notearr)\n",
    "    noteper.append(100 - sum(noteper))\n",
    "    print(noteper)\n",
    "    return noteper\n",
    "notepercent = chooseper(notearray)\n",
    "print(notearray)\n",
    "print(notepercent)\n",
    "\n",
    "\n",
    "def arraysummer():\n",
    "    sumarray = []\n",
    "    for i in range(len(notearray)):\n",
    "        for j in range(notepercent[i]):\n",
    "            sumarray.append(notearray[i])\n",
    "    return sumarray\n",
    "\n",
    "\n",
    "print(arraysummer())"
   ]
  },
  {
   "cell_type": "code",
   "execution_count": null,
   "metadata": {},
   "outputs": [],
   "source": []
  }
 ],
 "metadata": {
  "interpreter": {
   "hash": "45540f15f7e5ff113290b5e1afb3cf45ebeac7449df2c2fbbaf63b4dfcf1d2c6"
  },
  "kernelspec": {
   "display_name": "Python 3.10.1 64-bit",
   "language": "python",
   "name": "python3"
  },
  "language_info": {
   "codemirror_mode": {
    "name": "ipython",
    "version": 3
   },
   "file_extension": ".py",
   "mimetype": "text/x-python",
   "name": "python",
   "nbconvert_exporter": "python",
   "pygments_lexer": "ipython3",
   "version": "3.10.1"
  },
  "orig_nbformat": 4
 },
 "nbformat": 4,
 "nbformat_minor": 2
}
