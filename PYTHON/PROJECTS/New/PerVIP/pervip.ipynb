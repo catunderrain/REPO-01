{
 "cells": [
  {
   "cell_type": "code",
   "execution_count": 32,
   "metadata": {},
   "outputs": [
    {
     "name": "stdout",
     "output_type": "stream",
     "text": [
      "Nhap so luong note: \n",
      "Ten note  1 : \n",
      "Ten note  2 : \n",
      "Ten note  3 : \n",
      "Ten note  4 : \n",
      "['a', 'b', 'c', 'd']\n",
      "Percent of  a : \n",
      "Percent of  b : \n",
      "Percent of  c : \n",
      "Percent of  d : \n",
      "[10, 10, 20, 10]\n",
      "50\n",
      "['a', 'b', 'c', 'd', 'x']\n",
      "[10, 10, 20, 10, 50]\n"
     ]
    }
   ],
   "source": [
    "call = 1\n",
    "while call == 1:\n",
    "    notearr = noteper = []\n",
    "    print('Nhap so luong note: ')\n",
    "    numnote = int(input())\n",
    "    for i in range(numnote):\n",
    "        print('Ten note ', i + 1, ': ')\n",
    "        notearr.append(input())\n",
    "    print(notearr)\n",
    "\n",
    "    for i in range(len(notearr)):\n",
    "        print('Percent of ',notearr[i], ': ')\n",
    "        noteper.append(int(input()))\n",
    "    print(noteper)\n",
    "    \n",
    "    if sum(noteper) > 100:\n",
    "        print('Wrong')\n",
    "        call = 1\n",
    "    else:\n",
    "        call = 0\n",
    "        \n",
    "notearr.append('x')\n",
    "print(notearr)\n",
    "\n",
    "noteper.append(100 - sum(noteper))\n",
    "print(noteper)"
   ]
  }
 ],
 "metadata": {
  "interpreter": {
   "hash": "45540f15f7e5ff113290b5e1afb3cf45ebeac7449df2c2fbbaf63b4dfcf1d2c6"
  },
  "kernelspec": {
   "display_name": "Python 3.10.1 64-bit",
   "language": "python",
   "name": "python3"
  },
  "language_info": {
   "codemirror_mode": {
    "name": "ipython",
    "version": 3
   },
   "file_extension": ".py",
   "mimetype": "text/x-python",
   "name": "python",
   "nbconvert_exporter": "python",
   "pygments_lexer": "ipython3",
   "version": "3.10.1"
  },
  "orig_nbformat": 4
 },
 "nbformat": 4,
 "nbformat_minor": 2
}
