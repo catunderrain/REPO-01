{
 "cells": [
  {
   "cell_type": "code",
   "execution_count": 2,
   "metadata": {},
   "outputs": [
    {
     "name": "stdout",
     "output_type": "stream",
     "text": [
      "a\n"
     ]
    }
   ],
   "source": [
    "import numpy as np\n",
    "from scipy.io.wavfile import write\n",
    "from TWSub import pianonotes, songdata\n",
    "\n",
    "samplerate = 4400\n",
    "notefreqs = pianonotes()\n",
    "musicnotes = 'a'\n",
    "data = songdata(musicnotes)\n",
    "data = data * (16300/np.max(data))\n",
    "write('testwave.wav', samplerate, data.astype(np.int16))\n",
    "print(musicnotes)"
   ]
  }
 ],
 "metadata": {
  "interpreter": {
   "hash": "45540f15f7e5ff113290b5e1afb3cf45ebeac7449df2c2fbbaf63b4dfcf1d2c6"
  },
  "kernelspec": {
   "display_name": "Python 3.10.1 64-bit",
   "language": "python",
   "name": "python3"
  },
  "language_info": {
   "codemirror_mode": {
    "name": "ipython",
    "version": 3
   },
   "file_extension": ".py",
   "mimetype": "text/x-python",
   "name": "python",
   "nbconvert_exporter": "python",
   "pygments_lexer": "ipython3",
   "version": "3.10.1"
  },
  "orig_nbformat": 4
 },
 "nbformat": 4,
 "nbformat_minor": 2
}
