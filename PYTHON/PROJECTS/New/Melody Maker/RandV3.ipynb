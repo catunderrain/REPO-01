{
 "cells": [
  {
   "cell_type": "code",
   "execution_count": 34,
   "metadata": {},
   "outputs": [
    {
     "name": "stdout",
     "output_type": "stream",
     "text": [
      "['c', 'd', 'e', 'g', 'b', 'x', 'c1', 'c2']\n"
     ]
    },
    {
     "data": {
      "text/plain": [
       "'b-g-c-b-e-c1-b-c-c2'"
      ]
     },
     "execution_count": 34,
     "metadata": {},
     "output_type": "execute_result"
    }
   ],
   "source": [
    "import random\n",
    "def randnote(numnote):\n",
    "    ##numnote = int(input()) #so luong note muon rand\n",
    "    g = []\n",
    "    string = 'cdegbx'\n",
    "    add = []\n",
    "    mang = [] #mang cac note su dung\n",
    "    for i in range(len(string)):\n",
    "        mang.append(string[i])\n",
    "    ##print(mang)\n",
    "    \n",
    "    mang = mang + add\n",
    "    print(mang)\n",
    "    #random note\n",
    "    for i in range(numnote):\n",
    "       x = random.randint(0,len(mang)-1)\n",
    "       g.append(mang[x])\n",
    "        \n",
    "    ##print(g)\n",
    "    v = ''\n",
    "    for i in range(len(g)):\n",
    "        g[i] = g[i] + '-'\n",
    "    ##print(g)\n",
    "    final = v.join(g)[:2*len(g)-1]\n",
    "    ##print(final) #bo di dau cham cuoi cung\n",
    "    return final\n",
    "randnote(10)"
   ]
  }
 ],
 "metadata": {
  "interpreter": {
   "hash": "45540f15f7e5ff113290b5e1afb3cf45ebeac7449df2c2fbbaf63b4dfcf1d2c6"
  },
  "kernelspec": {
   "display_name": "Python 3.10.1 64-bit",
   "language": "python",
   "name": "python3"
  },
  "language_info": {
   "codemirror_mode": {
    "name": "ipython",
    "version": 3
   },
   "file_extension": ".py",
   "mimetype": "text/x-python",
   "name": "python",
   "nbconvert_exporter": "python",
   "pygments_lexer": "ipython3",
   "version": "3.10.1"
  },
  "orig_nbformat": 4
 },
 "nbformat": 4,
 "nbformat_minor": 2
}
