{
 "cells": [
  {
   "cell_type": "code",
   "execution_count": 1,
   "metadata": {},
   "outputs": [
    {
     "name": "stdout",
     "output_type": "stream",
     "text": [
      "['c', 'c', 'b', 'd', 'a', 'c', 'a', 'd', 'b', 'c', 'c', 'a', 'd', 'd', 'b', 'd', 'd', 'a', 'c', 'b']\n",
      "['c-', 'c-', 'b-', 'd-', 'a-', 'c-', 'a-', 'd-', 'b-', 'c-', 'c-', 'a-', 'd-', 'd-', 'b-', 'd-', 'd-', 'a-', 'c-', 'b-']\n",
      "c-c-b-d-a-c-a-d-b-c-c-a-d-d-b-d-d-a-c-b\n"
     ]
    }
   ],
   "source": [
    "import random\n",
    "\n",
    "numnote = int(input()) #so luong note muon rand\n",
    "g = []\n",
    "\n",
    "#cac def chuong trinh\n",
    "def a(gt):\n",
    "    i = random.randint(0, 1)\n",
    "    if i == 0:\n",
    "        return 0\n",
    "    else:\n",
    "        return 'a'\n",
    "\n",
    "def b(gt):\n",
    "    i = random.randint(0, 1)\n",
    "    if i == 0:\n",
    "        return 0\n",
    "    else:\n",
    "        return 'b'\n",
    "\n",
    "def c(gt):\n",
    "    i = random.randint(0, 1)\n",
    "    if i == 0:\n",
    "        return 0\n",
    "    else:\n",
    "        return 'c'\n",
    "\n",
    "def d(gt):\n",
    "    i = random.randint(0, 1)\n",
    "    if i == 0:\n",
    "        return 0\n",
    "    else:\n",
    "        return 'd'\n",
    "\n",
    "mang = [a, b, c, d] #mang cac def \n",
    "\n",
    "#random note\n",
    "for i in range(numnote):\n",
    "    x = random.randint(0,3)\n",
    "    y = 0\n",
    "    while y == 0:\n",
    "        y = mang[x](0)\n",
    "    g.append(y)\n",
    "        \n",
    "print(g)\n",
    "v = ''\n",
    "for i in range(len(g)):\n",
    "    g[i] = g[i] + '-'\n",
    "print(g)\n",
    "print(v.join(g)[:2*len(g)-1]) #bo di dau cham cuoi cung\n"
   ]
  }
 ],
 "metadata": {
  "interpreter": {
   "hash": "45540f15f7e5ff113290b5e1afb3cf45ebeac7449df2c2fbbaf63b4dfcf1d2c6"
  },
  "kernelspec": {
   "display_name": "Python 3.10.1 64-bit",
   "language": "python",
   "name": "python3"
  },
  "language_info": {
   "codemirror_mode": {
    "name": "ipython",
    "version": 3
   },
   "file_extension": ".py",
   "mimetype": "text/x-python",
   "name": "python",
   "nbconvert_exporter": "python",
   "pygments_lexer": "ipython3",
   "version": "3.10.1"
  },
  "orig_nbformat": 4
 },
 "nbformat": 4,
 "nbformat_minor": 2
}
