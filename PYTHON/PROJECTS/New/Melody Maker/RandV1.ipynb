{
 "cells": [
  {
   "cell_type": "code",
   "execution_count": 1,
   "metadata": {},
   "outputs": [
    {
     "name": "stdout",
     "output_type": "stream",
     "text": [
      "['a', 'c', 'a', 'b', 'a', 'b', 'a', 'd', 'c', 'a']\n",
      "acababadca\n",
      "['a.', 'c.', 'a.', 'b.', 'a.', 'b.', 'a.', 'd.', 'c.', 'a.']\n",
      "a.c.a.b.a.b.a.d.c.a\n"
     ]
    }
   ],
   "source": [
    "import random\n",
    "\n",
    "g = []\n",
    "\n",
    "def a():\n",
    "    i = random.randint(0, 1)\n",
    "    if i == 0:\n",
    "        return 0\n",
    "    else:\n",
    "        return 'a'\n",
    "\n",
    "def b():\n",
    "    i = random.randint(0, 1)\n",
    "    if i == 0:\n",
    "        return 0\n",
    "    else:\n",
    "        return 'b'\n",
    "\n",
    "def c():\n",
    "    i = random.randint(0, 1)\n",
    "    if i == 0:\n",
    "        return 0\n",
    "    else:\n",
    "        return 'c'\n",
    "\n",
    "def d():\n",
    "    i = random.randint(0, 1)\n",
    "    if i == 0:\n",
    "        return 0\n",
    "    else:\n",
    "        return 'd'\n",
    "\n",
    "for k in range(10):\n",
    "    x = random.randint(0,3)\n",
    "    if x == 0:\n",
    "        y = 0\n",
    "        while y == 0:\n",
    "            y = a()\n",
    "        g.append(y)\n",
    "        continue\n",
    "    if x == 1:\n",
    "        y = 0\n",
    "        while y == 0:\n",
    "            y = b()\n",
    "        g.append(y)\n",
    "        continue\n",
    "    if x == 2:\n",
    "        y = 0\n",
    "        while y == 0:\n",
    "            y = c()\n",
    "        g.append(y)\n",
    "        continue   \n",
    "    if x == 3:\n",
    "        y = 0\n",
    "        while y == 0:\n",
    "            y = d()\n",
    "        g.append(y)\n",
    "        continue\n",
    "\n",
    "print(g)\n",
    "v = ''\n",
    "print(v.join(g))\n",
    "for i in range(len(g)):\n",
    "    g[i] = g[i] + '.'\n",
    "print(g)\n",
    "print(v.join(g)[:2*len(g)-1])\n",
    "\n"
   ]
  }
 ],
 "metadata": {
  "interpreter": {
   "hash": "45540f15f7e5ff113290b5e1afb3cf45ebeac7449df2c2fbbaf63b4dfcf1d2c6"
  },
  "kernelspec": {
   "display_name": "Python 3.10.1 64-bit",
   "language": "python",
   "name": "python3"
  },
  "language_info": {
   "codemirror_mode": {
    "name": "ipython",
    "version": 3
   },
   "file_extension": ".py",
   "mimetype": "text/x-python",
   "name": "python",
   "nbconvert_exporter": "python",
   "pygments_lexer": "ipython3",
   "version": "3.10.1"
  },
  "orig_nbformat": 4
 },
 "nbformat": 4,
 "nbformat_minor": 2
}
