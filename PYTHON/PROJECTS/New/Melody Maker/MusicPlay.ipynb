{
 "cells": [
  {
   "cell_type": "code",
   "execution_count": 2,
   "metadata": {},
   "outputs": [
    {
     "name": "stdout",
     "output_type": "stream",
     "text": [
      "4400\n",
      "4095.999738866988\n",
      "-4095.999738866988\n",
      "g-x-e-x-c-x-e-x-e-f-e-d-c\n"
     ]
    }
   ],
   "source": [
    "import numpy as np\n",
    "import matplotlib.pyplot as plt\n",
    "from pprint import pprint\n",
    "import scipy.io\n",
    "\n",
    "samplerate = 4400\n",
    "\n",
    "def get_wave(freq, duration = 0.20):\n",
    "    amplitude = 4096\n",
    "    t = np.linspace(0, duration, int(samplerate * duration))\n",
    "    wave = amplitude * np.sin(2 * np.pi * freq * t)\n",
    "    return wave\n",
    "\n",
    "a_wave = get_wave(440, 1)\n",
    "\n",
    "print(len(a_wave))\n",
    "print(np.max(a_wave))\n",
    "print(np.min(a_wave))\n",
    "\n",
    "\n",
    "def get_piano_notes():\n",
    "    octave = ['c',\n",
    "              'C',\n",
    "              'd',\n",
    "              'D',\n",
    "              'e',\n",
    "              'f',\n",
    "              'F',\n",
    "              'g',\n",
    "              'G',\n",
    "              'a',\n",
    "              'A',\n",
    "              'b',\n",
    "              'c1',\n",
    "              'C1',\n",
    "              'd1',\n",
    "              'D1',\n",
    "              'e1',\n",
    "              'f1',\n",
    "              'F1',\n",
    "              'g1',\n",
    "              'G1',\n",
    "              'a1',\n",
    "              'A1',\n",
    "              'b1',\n",
    "              'c2',\n",
    "              'C2',\n",
    "              'd2',\n",
    "              'D2',\n",
    "              'e2',\n",
    "              'f2',\n",
    "              'F2',\n",
    "              'g2',\n",
    "              'G2',\n",
    "              'a2',\n",
    "              'A2',\n",
    "              'b2',\n",
    "              ] \n",
    "    base_freq = 261.63\n",
    "    note_freqs = {octave[i]: base_freq * pow(2,(i/12)) for i in range(len(octave))}        \n",
    "    note_freqs['x'] = 0.0\n",
    "    return note_freqs\n",
    "  \n",
    "note_freqs = get_piano_notes()\n",
    "\n",
    "def get_song_data(music_notes):\n",
    "    note_freqs = get_piano_notes() # Function that we made earlier\n",
    "    song = [get_wave(note_freqs[note]) for note in music_notes.split('-')]\n",
    "    song = np.concatenate(song)\n",
    "    return song\n",
    "\n",
    "music_notes = 'g-x-e-x-c-x-e-x-e-f-e-d-c'\n",
    "data = get_song_data(music_notes)\n",
    "\n",
    "data = data * (16300/np.max(data))\n",
    "\n",
    "from scipy.io.wavfile import write\n",
    "write('musicplay.wav', samplerate, data.astype(np.int16))\n",
    "print(music_notes)"
   ]
  }
 ],
 "metadata": {
  "interpreter": {
   "hash": "45540f15f7e5ff113290b5e1afb3cf45ebeac7449df2c2fbbaf63b4dfcf1d2c6"
  },
  "kernelspec": {
   "display_name": "Python 3.10.1 64-bit",
   "language": "python",
   "name": "python3"
  },
  "language_info": {
   "codemirror_mode": {
    "name": "ipython",
    "version": 3
   },
   "file_extension": ".py",
   "mimetype": "text/x-python",
   "name": "python",
   "nbconvert_exporter": "python",
   "pygments_lexer": "ipython3",
   "version": "3.10.1"
  },
  "orig_nbformat": 4
 },
 "nbformat": 4,
 "nbformat_minor": 2
}
