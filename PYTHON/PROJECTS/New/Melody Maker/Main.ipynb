{
 "cells": [
  {
   "cell_type": "code",
   "execution_count": 3,
   "metadata": {},
   "outputs": [
    {
     "name": "stdout",
     "output_type": "stream",
     "text": [
      "c-g-b-e-e-x-g-b-c-e-x-x-a-e-a-a-x-e-g-x-g-c-a-g-g-c-a-x-x-c-a-e-g-x-b-x-b-c-c-e-c-c-x-c-x-b-x-c-b-b-b-g-e-x-a-b-c-b-c-c-g-c-c-a-b-g-c-c-g-c-g-a-e-g-b-b-c-x-g-c-x-b-c-b-b-b-g-e-b-a-b-e-c-e-e-b-a-g-b-c\n"
     ]
    }
   ],
   "source": [
    "import numpy as np\n",
    "from scipy.io.wavfile import write\n",
    "from MainSub import pianonotes, randnote, songdata\n",
    "import os\n",
    "\n",
    "os.remove('main.wav')\n",
    "\n",
    "inputstring = 'cegabx'\n",
    "inputadd = []\n",
    "inputnumber = int(input())\n",
    "samplerate = 4400\n",
    "notefreqs = pianonotes()\n",
    "musicnotes = randnote(inputnumber, inputstring, inputadd)\n",
    "data = songdata(musicnotes)\n",
    "data = data * (16300/np.max(data)) #đưa data cao nhất lên 16300\n",
    "write('main.wav', samplerate, data.astype(np.int16))\n",
    "print(musicnotes)"
   ]
  }
 ],
 "metadata": {
  "interpreter": {
   "hash": "45540f15f7e5ff113290b5e1afb3cf45ebeac7449df2c2fbbaf63b4dfcf1d2c6"
  },
  "kernelspec": {
   "display_name": "Python 3.10.1 64-bit",
   "language": "python",
   "name": "python3"
  },
  "language_info": {
   "codemirror_mode": {
    "name": "ipython",
    "version": 3
   },
   "file_extension": ".py",
   "mimetype": "text/x-python",
   "name": "python",
   "nbconvert_exporter": "python",
   "pygments_lexer": "ipython3",
   "version": "3.10.1"
  },
  "orig_nbformat": 4
 },
 "nbformat": 4,
 "nbformat_minor": 2
}
