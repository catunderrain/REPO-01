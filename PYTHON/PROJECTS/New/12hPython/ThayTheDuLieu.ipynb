{
 "cells": [
  {
   "cell_type": "code",
   "execution_count": 22,
   "metadata": {},
   "outputs": [
    {
     "name": "stdout",
     "output_type": "stream",
     "text": [
      "dakjfnvnlragih4oedafkmvlfknvlf vndfrg\n",
      "dakjf1980v1980lragih4oedafkmvlfk1980vlf v1980dfrg\n"
     ]
    }
   ],
   "source": [
    "#chuong trinh replace trong string\n",
    "\n",
    "name = input() #string chua du lieu thay the\n",
    "print(name)\n",
    "\n",
    "findx = input() #string can thay the\n",
    "while findx == '':\n",
    "    findx = input()\n",
    "    \n",
    "repx = input() #gia tri thay the\n",
    "\n",
    "detect = name.find(findx)\n",
    "while detect >= 0:\n",
    "    name = name.replace(name[detect], repx) \n",
    "    detect = name.find(findx) \n",
    "    \n",
    "print(name) #string sau khi thay the du lieu\n",
    "\n"
   ]
  }
 ],
 "metadata": {
  "interpreter": {
   "hash": "45540f15f7e5ff113290b5e1afb3cf45ebeac7449df2c2fbbaf63b4dfcf1d2c6"
  },
  "kernelspec": {
   "display_name": "Python 3.10.1 64-bit",
   "language": "python",
   "name": "python3"
  },
  "language_info": {
   "codemirror_mode": {
    "name": "ipython",
    "version": 3
   },
   "file_extension": ".py",
   "mimetype": "text/x-python",
   "name": "python",
   "nbconvert_exporter": "python",
   "pygments_lexer": "ipython3",
   "version": "3.10.1"
  },
  "orig_nbformat": 4
 },
 "nbformat": 4,
 "nbformat_minor": 2
}
