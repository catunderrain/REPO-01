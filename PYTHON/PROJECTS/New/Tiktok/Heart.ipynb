{
 "cells": [
  {
   "cell_type": "code",
   "execution_count": 1,
   "metadata": {},
   "outputs": [
    {
     "ename": "Terminator",
     "evalue": "",
     "output_type": "error",
     "traceback": [
      "\u001b[1;31m---------------------------------------------------------------------------\u001b[0m",
      "\u001b[1;31mTerminator\u001b[0m                                Traceback (most recent call last)",
      "\u001b[1;32mc:\\Users\\lovem\\1-PythonHouse\\New\\Tiktok\\Heart.ipynb Cell 1'\u001b[0m in \u001b[0;36m<cell line: 13>\u001b[1;34m()\u001b[0m\n\u001b[0;32m     <a href='vscode-notebook-cell:/c%3A/Users/lovem/1-PythonHouse/New/Tiktok/Heart.ipynb#ch0000000?line=23'>24</a>\u001b[0m     lt(\u001b[39m120\u001b[39m)\n\u001b[0;32m     <a href='vscode-notebook-cell:/c%3A/Users/lovem/1-PythonHouse/New/Tiktok/Heart.ipynb#ch0000000?line=24'>25</a>\u001b[0m \u001b[39mif\u001b[39;00m i \u001b[39m>\u001b[39m\u001b[39m=\u001b[39m \u001b[39m112\u001b[39m \u001b[39mand\u001b[39;00m i \u001b[39m<\u001b[39m\u001b[39m=\u001b[39m \u001b[39m511\u001b[39m:\n\u001b[1;32m---> <a href='vscode-notebook-cell:/c%3A/Users/lovem/1-PythonHouse/New/Tiktok/Heart.ipynb#ch0000000?line=25'>26</a>\u001b[0m     rt(\u001b[39m1\u001b[39;49m)\n\u001b[0;32m     <a href='vscode-notebook-cell:/c%3A/Users/lovem/1-PythonHouse/New/Tiktok/Heart.ipynb#ch0000000?line=26'>27</a>\u001b[0m fd(j)\n\u001b[0;32m     <a href='vscode-notebook-cell:/c%3A/Users/lovem/1-PythonHouse/New/Tiktok/Heart.ipynb#ch0000000?line=27'>28</a>\u001b[0m dot(width)\n",
      "File \u001b[1;32m<string>:5\u001b[0m, in \u001b[0;36mrt\u001b[1;34m(angle)\u001b[0m\n",
      "\u001b[1;31mTerminator\u001b[0m: "
     ]
    }
   ],
   "source": [
    "from turtle import *\n",
    "from random import uniform\n",
    "\n",
    "bgcolor('black')\n",
    "tracer(100)\n",
    "\n",
    "n = 6\n",
    "width = 30\n",
    "step = 0.5\n",
    "j = sl = 1\n",
    "ht()\n",
    "\n",
    "while True:\n",
    "    if j >= (n - 1)*step + sl:\n",
    "        k = True\n",
    "    if round(j, 2) == float(sl):\n",
    "        k = False\n",
    "    goto(0, -350)\n",
    "    begin_fill()\n",
    "    seth(139)\n",
    "    for i in range(623):\n",
    "        color(uniform(0, 1), uniform(0, 1), uniform(0, 1))\n",
    "        if i == 312:\n",
    "            lt(120)\n",
    "        if i >= 112 and i <= 511:\n",
    "            rt(1)\n",
    "        fd(j)\n",
    "        dot(width)\n",
    "    if k:\n",
    "        j -= step\n",
    "    else:\n",
    "        j += step\n",
    "            \n",
    "    end_fill()\n",
    "done()"
   ]
  }
 ],
 "metadata": {
  "interpreter": {
   "hash": "45540f15f7e5ff113290b5e1afb3cf45ebeac7449df2c2fbbaf63b4dfcf1d2c6"
  },
  "kernelspec": {
   "display_name": "Python 3.10.1 64-bit",
   "language": "python",
   "name": "python3"
  },
  "language_info": {
   "codemirror_mode": {
    "name": "ipython",
    "version": 3
   },
   "file_extension": ".py",
   "mimetype": "text/x-python",
   "name": "python",
   "nbconvert_exporter": "python",
   "pygments_lexer": "ipython3",
   "version": "3.10.1"
  },
  "orig_nbformat": 4
 },
 "nbformat": 4,
 "nbformat_minor": 2
}
