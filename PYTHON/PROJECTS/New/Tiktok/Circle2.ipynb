{
 "cells": [
  {
   "cell_type": "code",
   "execution_count": 1,
   "metadata": {},
   "outputs": [
    {
     "ename": "Terminator",
     "evalue": "",
     "output_type": "error",
     "traceback": [
      "\u001b[1;31m---------------------------------------------------------------------------\u001b[0m",
      "\u001b[1;31mTerminator\u001b[0m                                Traceback (most recent call last)",
      "\u001b[1;32mc:\\Users\\lovem\\1-PythonHouse\\New\\Tiktok\\Circle2.ipynb Cell 1'\u001b[0m in \u001b[0;36m<cell line: 26>\u001b[1;34m()\u001b[0m\n\u001b[0;32m     <a href='vscode-notebook-cell:/c%3A/Users/lovem/1-PythonHouse/New/Tiktok/Circle2.ipynb#ch0000000?line=34'>35</a>\u001b[0m         \u001b[39mfor\u001b[39;00m i \u001b[39min\u001b[39;00m \u001b[39mrange\u001b[39m(s[\u001b[39m1\u001b[39m]):\n\u001b[0;32m     <a href='vscode-notebook-cell:/c%3A/Users/lovem/1-PythonHouse/New/Tiktok/Circle2.ipynb#ch0000000?line=35'>36</a>\u001b[0m             turtles[\u001b[39m1\u001b[39m]\u001b[39m.\u001b[39mfd(\u001b[39m1.75\u001b[39m\u001b[39m*\u001b[39mr[\u001b[39m1\u001b[39m]\u001b[39m/\u001b[39m\u001b[39m100\u001b[39m)\n\u001b[1;32m---> <a href='vscode-notebook-cell:/c%3A/Users/lovem/1-PythonHouse/New/Tiktok/Circle2.ipynb#ch0000000?line=36'>37</a>\u001b[0m             turtles[\u001b[39m1\u001b[39;49m]\u001b[39m.\u001b[39;49mlt(\u001b[39m1\u001b[39;49m)\n\u001b[0;32m     <a href='vscode-notebook-cell:/c%3A/Users/lovem/1-PythonHouse/New/Tiktok/Circle2.ipynb#ch0000000?line=37'>38</a>\u001b[0m         goto(turtles[\u001b[39m1\u001b[39m]\u001b[39m.\u001b[39mpos())\n\u001b[0;32m     <a href='vscode-notebook-cell:/c%3A/Users/lovem/1-PythonHouse/New/Tiktok/Circle2.ipynb#ch0000000?line=38'>39</a>\u001b[0m done()\n",
      "File \u001b[1;32m~\\AppData\\Local\\Programs\\Python\\Python310\\lib\\turtle.py:1700\u001b[0m, in \u001b[0;36mTNavigator.left\u001b[1;34m(self, angle)\u001b[0m\n\u001b[0;32m   <a href='file:///c%3A/Users/lovem/AppData/Local/Programs/Python/Python310/lib/turtle.py?line=1680'>1681</a>\u001b[0m \u001b[39mdef\u001b[39;00m \u001b[39mleft\u001b[39m(\u001b[39mself\u001b[39m, angle):\n\u001b[0;32m   <a href='file:///c%3A/Users/lovem/AppData/Local/Programs/Python/Python310/lib/turtle.py?line=1681'>1682</a>\u001b[0m     \u001b[39m\"\"\"Turn turtle left by angle units.\u001b[39;00m\n\u001b[0;32m   <a href='file:///c%3A/Users/lovem/AppData/Local/Programs/Python/Python310/lib/turtle.py?line=1682'>1683</a>\u001b[0m \n\u001b[0;32m   <a href='file:///c%3A/Users/lovem/AppData/Local/Programs/Python/Python310/lib/turtle.py?line=1683'>1684</a>\u001b[0m \u001b[39m    Aliases: left | lt\u001b[39;00m\n\u001b[1;32m   (...)\u001b[0m\n\u001b[0;32m   <a href='file:///c%3A/Users/lovem/AppData/Local/Programs/Python/Python310/lib/turtle.py?line=1697'>1698</a>\u001b[0m \u001b[39m    67.0\u001b[39;00m\n\u001b[0;32m   <a href='file:///c%3A/Users/lovem/AppData/Local/Programs/Python/Python310/lib/turtle.py?line=1698'>1699</a>\u001b[0m \u001b[39m    \"\"\"\u001b[39;00m\n\u001b[1;32m-> <a href='file:///c%3A/Users/lovem/AppData/Local/Programs/Python/Python310/lib/turtle.py?line=1699'>1700</a>\u001b[0m     \u001b[39mself\u001b[39;49m\u001b[39m.\u001b[39;49m_rotate(angle)\n",
      "File \u001b[1;32m~\\AppData\\Local\\Programs\\Python\\Python310\\lib\\turtle.py:3280\u001b[0m, in \u001b[0;36mRawTurtle._rotate\u001b[1;34m(self, angle)\u001b[0m\n\u001b[0;32m   <a href='file:///c%3A/Users/lovem/AppData/Local/Programs/Python/Python310/lib/turtle.py?line=3277'>3278</a>\u001b[0m         \u001b[39mself\u001b[39m\u001b[39m.\u001b[39m_update()\n\u001b[0;32m   <a href='file:///c%3A/Users/lovem/AppData/Local/Programs/Python/Python310/lib/turtle.py?line=3278'>3279</a>\u001b[0m \u001b[39mself\u001b[39m\u001b[39m.\u001b[39m_orient \u001b[39m=\u001b[39m neworient\n\u001b[1;32m-> <a href='file:///c%3A/Users/lovem/AppData/Local/Programs/Python/Python310/lib/turtle.py?line=3279'>3280</a>\u001b[0m \u001b[39mself\u001b[39;49m\u001b[39m.\u001b[39;49m_update()\n",
      "File \u001b[1;32m~\\AppData\\Local\\Programs\\Python\\Python310\\lib\\turtle.py:2666\u001b[0m, in \u001b[0;36mRawTurtle._update\u001b[1;34m(self)\u001b[0m\n\u001b[0;32m   <a href='file:///c%3A/Users/lovem/AppData/Local/Programs/Python/Python310/lib/turtle.py?line=2663'>2664</a>\u001b[0m     screen\u001b[39m.\u001b[39m_delay(screen\u001b[39m.\u001b[39m_delayvalue) \u001b[39m# TurtleScreenBase\u001b[39;00m\n\u001b[0;32m   <a href='file:///c%3A/Users/lovem/AppData/Local/Programs/Python/Python310/lib/turtle.py?line=2664'>2665</a>\u001b[0m \u001b[39melse\u001b[39;00m:\n\u001b[1;32m-> <a href='file:///c%3A/Users/lovem/AppData/Local/Programs/Python/Python310/lib/turtle.py?line=2665'>2666</a>\u001b[0m     \u001b[39mself\u001b[39;49m\u001b[39m.\u001b[39;49m_update_data()\n\u001b[0;32m   <a href='file:///c%3A/Users/lovem/AppData/Local/Programs/Python/Python310/lib/turtle.py?line=2666'>2667</a>\u001b[0m     \u001b[39mif\u001b[39;00m screen\u001b[39m.\u001b[39m_updatecounter \u001b[39m==\u001b[39m \u001b[39m0\u001b[39m:\n\u001b[0;32m   <a href='file:///c%3A/Users/lovem/AppData/Local/Programs/Python/Python310/lib/turtle.py?line=2667'>2668</a>\u001b[0m         \u001b[39mfor\u001b[39;00m t \u001b[39min\u001b[39;00m screen\u001b[39m.\u001b[39mturtles():\n",
      "File \u001b[1;32m~\\AppData\\Local\\Programs\\Python\\Python310\\lib\\turtle.py:2647\u001b[0m, in \u001b[0;36mRawTurtle._update_data\u001b[1;34m(self)\u001b[0m\n\u001b[0;32m   <a href='file:///c%3A/Users/lovem/AppData/Local/Programs/Python/Python310/lib/turtle.py?line=2645'>2646</a>\u001b[0m \u001b[39mdef\u001b[39;00m \u001b[39m_update_data\u001b[39m(\u001b[39mself\u001b[39m):\n\u001b[1;32m-> <a href='file:///c%3A/Users/lovem/AppData/Local/Programs/Python/Python310/lib/turtle.py?line=2646'>2647</a>\u001b[0m     \u001b[39mself\u001b[39;49m\u001b[39m.\u001b[39;49mscreen\u001b[39m.\u001b[39;49m_incrementudc()\n\u001b[0;32m   <a href='file:///c%3A/Users/lovem/AppData/Local/Programs/Python/Python310/lib/turtle.py?line=2647'>2648</a>\u001b[0m     \u001b[39mif\u001b[39;00m \u001b[39mself\u001b[39m\u001b[39m.\u001b[39mscreen\u001b[39m.\u001b[39m_updatecounter \u001b[39m!=\u001b[39m \u001b[39m0\u001b[39m:\n\u001b[0;32m   <a href='file:///c%3A/Users/lovem/AppData/Local/Programs/Python/Python310/lib/turtle.py?line=2648'>2649</a>\u001b[0m         \u001b[39mreturn\u001b[39;00m\n",
      "File \u001b[1;32m~\\AppData\\Local\\Programs\\Python\\Python310\\lib\\turtle.py:1293\u001b[0m, in \u001b[0;36mTurtleScreen._incrementudc\u001b[1;34m(self)\u001b[0m\n\u001b[0;32m   <a href='file:///c%3A/Users/lovem/AppData/Local/Programs/Python/Python310/lib/turtle.py?line=1290'>1291</a>\u001b[0m \u001b[39mif\u001b[39;00m \u001b[39mnot\u001b[39;00m TurtleScreen\u001b[39m.\u001b[39m_RUNNING:\n\u001b[0;32m   <a href='file:///c%3A/Users/lovem/AppData/Local/Programs/Python/Python310/lib/turtle.py?line=1291'>1292</a>\u001b[0m     TurtleScreen\u001b[39m.\u001b[39m_RUNNING \u001b[39m=\u001b[39m \u001b[39mTrue\u001b[39;00m\n\u001b[1;32m-> <a href='file:///c%3A/Users/lovem/AppData/Local/Programs/Python/Python310/lib/turtle.py?line=1292'>1293</a>\u001b[0m     \u001b[39mraise\u001b[39;00m Terminator\n\u001b[0;32m   <a href='file:///c%3A/Users/lovem/AppData/Local/Programs/Python/Python310/lib/turtle.py?line=1293'>1294</a>\u001b[0m \u001b[39mif\u001b[39;00m \u001b[39mself\u001b[39m\u001b[39m.\u001b[39m_tracing \u001b[39m>\u001b[39m \u001b[39m0\u001b[39m:\n\u001b[0;32m   <a href='file:///c%3A/Users/lovem/AppData/Local/Programs/Python/Python310/lib/turtle.py?line=1294'>1295</a>\u001b[0m     \u001b[39mself\u001b[39m\u001b[39m.\u001b[39m_updatecounter \u001b[39m+\u001b[39m\u001b[39m=\u001b[39m \u001b[39m1\u001b[39m\n",
      "\u001b[1;31mTerminator\u001b[0m: "
     ]
    }
   ],
   "source": [
    "from turtle import *\n",
    "colors = ['deeppink', 'gold', 'cyan', 'orange']\n",
    "bgcolor('black')\n",
    "\n",
    "r = [350, 350]\n",
    "s = 1, 4\n",
    "turtles = [Turtle(), Turtle()]\n",
    "\n",
    "for index, i in enumerate(turtles):\n",
    "    i.speed(0)\n",
    "    i.color('white')\n",
    "    i.shape('circle')\n",
    "    i.shapesize(0.3)\n",
    "    i.width(3)\n",
    "    i.pu()\n",
    "    i.seth(90)\n",
    "    i.fd(r[index])\n",
    "    i.seth(180)\n",
    "    i.pd()\n",
    "    \n",
    "turtles[0].pu()\n",
    "tracer(30)\n",
    "speed(0)\n",
    "ht()\n",
    "\n",
    "for i in colors:\n",
    "    color(i)\n",
    "    for i in range(360//min(s)):\n",
    "        for i in range(s[0]):\n",
    "            turtles[0].fd(1.75*r[0]/100)\n",
    "            turtles[0].lt(1)\n",
    "            pu()\n",
    "            goto(turtles[0].pos())\n",
    "            pd()\n",
    "        for i in range(s[1]):\n",
    "            turtles[1].fd(1.75*r[1]/100)\n",
    "            turtles[1].lt(1)\n",
    "        goto(turtles[1].pos())\n",
    "done()"
   ]
  }
 ],
 "metadata": {
  "interpreter": {
   "hash": "45540f15f7e5ff113290b5e1afb3cf45ebeac7449df2c2fbbaf63b4dfcf1d2c6"
  },
  "kernelspec": {
   "display_name": "Python 3.10.1 64-bit",
   "language": "python",
   "name": "python3"
  },
  "language_info": {
   "codemirror_mode": {
    "name": "ipython",
    "version": 3
   },
   "file_extension": ".py",
   "mimetype": "text/x-python",
   "name": "python",
   "nbconvert_exporter": "python",
   "pygments_lexer": "ipython3",
   "version": "3.10.1"
  },
  "orig_nbformat": 4
 },
 "nbformat": 4,
 "nbformat_minor": 2
}
