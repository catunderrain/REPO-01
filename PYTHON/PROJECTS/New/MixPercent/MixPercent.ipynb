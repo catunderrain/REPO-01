{
 "cells": [
  {
   "cell_type": "code",
   "execution_count": 1,
   "metadata": {},
   "outputs": [
    {
     "name": "stdout",
     "output_type": "stream",
     "text": [
      "Nhap so luong note: \n",
      "['a', 'b', 'c', 'd', 'e', 'f', '1', '2', '3', '4']\n",
      "[10, 10, 8, 8, 5, 6, 4, 7, 3, 2]\n",
      "['a', 'b', 'c', 'd', 'e', 'f', '1', '2', '3', '4', 'x']\n",
      "[10, 10, 8, 8, 5, 6, 4, 7, 3, 2, 37]\n",
      "[0, 0, 0, 0, 0, 0, 0, 0, 0, 0, 0]\n"
     ]
    }
   ],
   "source": [
    "import random\n",
    "notearray = []\n",
    "\n",
    "\n",
    "def chooseper(notearr):\n",
    "    call = 1\n",
    "    while call == 1:\n",
    "        noteper = []\n",
    "        print('Nhap so luong note: ')\n",
    "        numnote = int(input())\n",
    "        for i in range(numnote):\n",
    "            notearr.append(input())\n",
    "        print(notearr)\n",
    "        \n",
    "        for j in range(len(notearr)):\n",
    "            noteper.append(int(input()))\n",
    "        print(noteper)\n",
    "        if sum(noteper) > 100:\n",
    "            print('Wrong')\n",
    "            call = 1\n",
    "        else:\n",
    "            call = 0\n",
    "    notearr.append('x')\n",
    "    print(notearr)\n",
    "    noteper.append(100 - sum(noteper))\n",
    "    print(noteper)\n",
    "    return noteper\n",
    "notepercent = chooseper(notearray)\n",
    "\n",
    "\n",
    "def percent(per):\n",
    "    full = []\n",
    "    for i in range(per):\n",
    "        full.append(1)\n",
    "    for i in range(100 - per):\n",
    "        full.append(0)\n",
    "    rand = random.randint(0, 99)\n",
    "    return full[rand]\n",
    "\n",
    "\n",
    "notepick = [percent(notepercent[i]) for i in range(len(notepercent))]\n",
    "print(notepick)"
   ]
  }
 ],
 "metadata": {
  "interpreter": {
   "hash": "45540f15f7e5ff113290b5e1afb3cf45ebeac7449df2c2fbbaf63b4dfcf1d2c6"
  },
  "kernelspec": {
   "display_name": "Python 3.10.1 64-bit",
   "language": "python",
   "name": "python3"
  },
  "language_info": {
   "codemirror_mode": {
    "name": "ipython",
    "version": 3
   },
   "file_extension": ".py",
   "mimetype": "text/x-python",
   "name": "python",
   "nbconvert_exporter": "python",
   "pygments_lexer": "ipython3",
   "version": "3.10.1"
  },
  "orig_nbformat": 4
 },
 "nbformat": 4,
 "nbformat_minor": 2
}
