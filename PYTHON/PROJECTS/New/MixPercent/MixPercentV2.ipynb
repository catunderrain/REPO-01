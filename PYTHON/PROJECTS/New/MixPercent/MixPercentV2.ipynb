{
 "cells": [
  {
   "cell_type": "code",
   "execution_count": 4,
   "metadata": {},
   "outputs": [
    {
     "name": "stdout",
     "output_type": "stream",
     "text": [
      "Nhap so luong note: \n",
      "['a', 'b', 'c', 'd', 'e']\n",
      "[10, 10, 20, 20, 20]\n",
      "['a', 'b', 'c', 'd', 'e', 'x']\n",
      "[10, 10, 20, 20, 20, 20]\n",
      "['a', 'a', 'a', 'a', 'a', 'a', 'a', 'a', 'a', 'a', 'b', 'b', 'b', 'b', 'b', 'b', 'b', 'b', 'b', 'b', 'c', 'c', 'c', 'c', 'c', 'c', 'c', 'c', 'c', 'c', 'c', 'c', 'c', 'c', 'c', 'c', 'c', 'c', 'c', 'c', 'd', 'd', 'd', 'd', 'd', 'd', 'd', 'd', 'd', 'd', 'd', 'd', 'd', 'd', 'd', 'd', 'd', 'd', 'd', 'd', 'e', 'e', 'e', 'e', 'e', 'e', 'e', 'e', 'e', 'e', 'e', 'e', 'e', 'e', 'e', 'e', 'e', 'e', 'e', 'e', 'x', 'x', 'x', 'x', 'x', 'x', 'x', 'x', 'x', 'x', 'x', 'x', 'x', 'x', 'x', 'x', 'x', 'x', 'x', 'x']\n"
     ]
    }
   ],
   "source": [
    "import random\n",
    "notearray = []\n",
    "\n",
    "\n",
    "def chooseper(notearr):\n",
    "    call = 1\n",
    "    while call == 1:\n",
    "        noteper = []\n",
    "        print('Nhap so luong note: ')\n",
    "        numnote = int(input())\n",
    "        for i in range(numnote):\n",
    "            notearr.append(input())\n",
    "        print(notearr)\n",
    "        \n",
    "        for j in range(len(notearr)):\n",
    "            noteper.append(int(input()))\n",
    "        print(noteper)\n",
    "        if sum(noteper) > 100:\n",
    "            print('Wrong')\n",
    "            call = 1\n",
    "        else:\n",
    "            call = 0\n",
    "    notearr.append('x')\n",
    "    print(notearr)\n",
    "    noteper.append(100 - sum(noteper))\n",
    "    print(noteper)\n",
    "    return noteper\n",
    "notepercent = chooseper(notearray)\n",
    "\n",
    "\n",
    "def arraysummer():\n",
    "    sumarray = []\n",
    "    for i in range(len(notearray)):\n",
    "        for j in range(notepercent[i]):\n",
    "            sumarray.append(notearray[i])\n",
    "    return sumarray\n",
    "            \n",
    "    \n",
    "print(arraysummer())\n"
   ]
  },
  {
   "cell_type": "code",
   "execution_count": 93,
   "metadata": {},
   "outputs": [
    {
     "name": "stdout",
     "output_type": "stream",
     "text": [
      "d\n"
     ]
    }
   ],
   "source": [
    "choose = random.randint(0, 99)\n",
    "a = arraysummer()\n",
    "print(a[choose])"
   ]
  }
 ],
 "metadata": {
  "interpreter": {
   "hash": "45540f15f7e5ff113290b5e1afb3cf45ebeac7449df2c2fbbaf63b4dfcf1d2c6"
  },
  "kernelspec": {
   "display_name": "Python 3.10.1 64-bit",
   "language": "python",
   "name": "python3"
  },
  "language_info": {
   "codemirror_mode": {
    "name": "ipython",
    "version": 3
   },
   "file_extension": ".py",
   "mimetype": "text/x-python",
   "name": "python",
   "nbconvert_exporter": "python",
   "pygments_lexer": "ipython3",
   "version": "3.10.1"
  },
  "orig_nbformat": 4
 },
 "nbformat": 4,
 "nbformat_minor": 2
}
