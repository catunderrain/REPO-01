{
 "cells": [
  {
   "cell_type": "code",
   "execution_count": 131,
   "metadata": {},
   "outputs": [
    {
     "name": "stdout",
     "output_type": "stream",
     "text": [
      "Gia tri random duoc trong mang:  86\n",
      "Gia tri lay ra su dung:  0\n",
      "Tong so not:  100000\n",
      "So not 0:  98043\n",
      "So not 1:  1957\n",
      "Phan tram xap xi:  1.957 %\n"
     ]
    }
   ],
   "source": [
    "import random\n",
    "\n",
    "full = []\n",
    "per = input() # phan tram cai dat vao\n",
    "\n",
    "per = int(per)\n",
    "#tao mang chua 100 phan tu, trong do co % phan tu per\n",
    "for i in range(per):\n",
    "    full.append(1)\n",
    "for i in range(100 - per):\n",
    "    full.append(0)\n",
    "\n",
    "#random 1 phan tu trong 100 phan tu    \n",
    "rand = random.randint(0, 99)\n",
    "\n",
    "#print('Mang khoi tao: ', full)\n",
    "#print('Do dai mang khoi tao: ', len(full))\n",
    "\n",
    "#buoc duoc su dung trong thuc te\n",
    "print('Gia tri random duoc trong mang: ', rand)\n",
    "print('Gia tri lay ra su dung: ', full[rand])\n",
    "\n",
    "#lay mang cac gia tri random voi so luong lon, de kiem tra do chuan xac\n",
    "big = []\n",
    "for i in range(100000):\n",
    "    rand = random.randint(0,99)\n",
    "    big.append(full[rand])\n",
    "\n",
    "#cong tong cac gia tri 1 va 0 de tinh percent\n",
    "sum1 = 0\n",
    "sum0 = 0\n",
    "for i in range(len(big)):\n",
    "    if big[i] == 1:\n",
    "        sum1 += 1\n",
    "    else:\n",
    "        sum0 += 1\n",
    "    \n",
    "sum01 = sum0 + sum1   \n",
    "print('Tong so not: ', sum01)\n",
    "print('So not 0: ', sum0)\n",
    "print('So not 1: ', sum1)\n",
    "percent = sum1 / sum01\n",
    "print('Phan tram xap xi: ', percent*100, '%')"
   ]
  }
 ],
 "metadata": {
  "interpreter": {
   "hash": "45540f15f7e5ff113290b5e1afb3cf45ebeac7449df2c2fbbaf63b4dfcf1d2c6"
  },
  "kernelspec": {
   "display_name": "Python 3.10.1 64-bit",
   "language": "python",
   "name": "python3"
  },
  "language_info": {
   "codemirror_mode": {
    "name": "ipython",
    "version": 3
   },
   "file_extension": ".py",
   "mimetype": "text/x-python",
   "name": "python",
   "nbconvert_exporter": "python",
   "pygments_lexer": "ipython3",
   "version": "3.10.1"
  },
  "orig_nbformat": 4
 },
 "nbformat": 4,
 "nbformat_minor": 2
}
