{
 "cells": [
  {
   "cell_type": "code",
   "execution_count": 1,
   "metadata": {},
   "outputs": [
    {
     "name": "stdout",
     "output_type": "stream",
     "text": [
      "pygame 2.1.2 (SDL 2.0.18, Python 3.10.1)\n",
      "Hello from the pygame community. https://www.pygame.org/contribute.html\n"
     ]
    },
    {
     "name": "stderr",
     "output_type": "stream",
     "text": [
      "Exception in Tkinter callback\n",
      "Traceback (most recent call last):\n",
      "  File \"C:\\Users\\lovem\\AppData\\Local\\Programs\\Python\\Python310\\lib\\tkinter\\__init__.py\", line 1921, in __call__\n",
      "    return self.func(*args)\n",
      "  File \"C:\\Users\\lovem\\AppData\\Local\\Temp\\ipykernel_7904\\1324632644.py\", line 23, in play\n",
      "    pygame.mixer.music.load(play_list.get(tkr.ACTIVE))\n",
      "pygame.error: No file 'myenv' found in working directory 'C:\\Users\\lovem\\1-PythonHouse\\Environments'.\n",
      "Exception in Tkinter callback\n",
      "Traceback (most recent call last):\n",
      "  File \"C:\\Users\\lovem\\AppData\\Local\\Programs\\Python\\Python310\\lib\\tkinter\\__init__.py\", line 1921, in __call__\n",
      "    return self.func(*args)\n",
      "  File \"C:\\Users\\lovem\\AppData\\Local\\Temp\\ipykernel_7904\\1324632644.py\", line 23, in play\n",
      "    pygame.mixer.music.load(play_list.get(tkr.ACTIVE))\n",
      "pygame.error: No file 'myenv' found in working directory 'C:\\Users\\lovem\\1-PythonHouse\\Environments'.\n"
     ]
    }
   ],
   "source": [
    "import pygame\n",
    "import tkinter as tkr\n",
    "from tkinter.filedialog import askdirectory\n",
    "import os\n",
    "\n",
    "music_player = tkr.Tk() \n",
    "music_player.title('GhostcatMusic') \n",
    "music_player.geometry('800x400')\n",
    "directory = askdirectory()\n",
    "os.chdir(directory)\n",
    "song_list = os.listdir()\n",
    "play_list = tkr.Listbox(music_player, font='Helvetica 12 bold', bg='yellow', selectmode=tkr.SINGLE)\n",
    "\n",
    "for item in song_list:\n",
    "    pos = 0\n",
    "    play_list.insert(pos, item)\n",
    "    pos += 1\n",
    "    \n",
    "pygame.init()\n",
    "pygame.mixer.init()\n",
    "\n",
    "def play():\n",
    "    pygame.mixer.music.load(play_list.get(tkr.ACTIVE))\n",
    "    var.set(play_list.get(tkr.ACTIVE))\n",
    "    pygame.mixer.music.play()\n",
    "def stop():\n",
    "    pygame.mixer.music.stop()\n",
    "def pause():\n",
    "    pygame.mixer.music.pause()\n",
    "def unpause():\n",
    "    pygame.mixer.music.unpause()\n",
    "    \n",
    "Button1 = tkr.Button(music_player, width=5, height=3, font='Helvetica 12 bold', text='PLAY', command=play, bg='blue', fg='white')\n",
    "Button2 = tkr.Button(music_player, width=5, height=3, font='Helvetica 12 bold', text='STOP', command=stop, bg='red', fg='white')\n",
    "Button3 = tkr.Button(music_player, width=5, height=3, font='Helvetica 12 bold', text='PAUSE', command=pause, bg='purple', fg='white')\n",
    "Button4 = tkr.Button(music_player, width=5, height=3, font='Helvetica 12 bold', text='UNPAUSE', command=unpause, bg='orange', fg='white')\n",
    "var = tkr.StringVar() \n",
    "song_title = tkr.Label(music_player, font='Helvetica 12 bold', textvariable=var)\n",
    "song_title.pack()\n",
    "Button1.pack(fill='x')\n",
    "Button2.pack(fill='x')\n",
    "Button3.pack(fill='x')\n",
    "Button4.pack(fill='x')\n",
    "play_list.pack(fill='both', expand='yes')\n",
    "music_player.mainloop()"
   ]
  }
 ],
 "metadata": {
  "interpreter": {
   "hash": "45540f15f7e5ff113290b5e1afb3cf45ebeac7449df2c2fbbaf63b4dfcf1d2c6"
  },
  "kernelspec": {
   "display_name": "Python 3.10.1 64-bit",
   "language": "python",
   "name": "python3"
  },
  "language_info": {
   "codemirror_mode": {
    "name": "ipython",
    "version": 3
   },
   "file_extension": ".py",
   "mimetype": "text/x-python",
   "name": "python",
   "nbconvert_exporter": "python",
   "pygments_lexer": "ipython3",
   "version": "3.10.1"
  },
  "orig_nbformat": 4
 },
 "nbformat": 4,
 "nbformat_minor": 2
}
