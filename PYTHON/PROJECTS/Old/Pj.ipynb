{
 "cells": [
  {
   "cell_type": "code",
   "execution_count": null,
   "id": "df01b7bf",
   "metadata": {},
   "outputs": [],
   "source": [
    "import os\n",
    "import time\n",
    "import playsound\n",
    "import speech_recognition as sr\n",
    "from gtts import gTTS\n",
    "\n",
    "\n",
    "def speak(text):\n",
    "    tts = gTTS(text=text, lang=\"en\")\n",
    "    filename = \"voice.mp3\"\n",
    "    tts.save(filename)\n",
    "    playsound.playsound(filename)\n",
    "\n",
    "\n",
    "def get_audio():\n",
    "    r = sr.Recognizer()\n",
    "    with sr.Microphone() as source:\n",
    "        audio = r.listen(source)\n",
    "        said = \"\"\n",
    "\n",
    "        try:\n",
    "            said = r.recognize_google(audio)\n",
    "            print(said)\n",
    "        except Exception as e:\n",
    "            print(\"Exception: \" + str(e))\n",
    "\n",
    "    return said\n",
    "\n",
    "text = get_audio()\n",
    "\n",
    "if \"hello\" in text:\n",
    "    speak(\"hello, how are you?\")\n",
    "elif \"what is your name\" in text:\n",
    "    speak(\"My name is Tim\")"
   ]
  },
  {
   "cell_type": "code",
   "execution_count": 4,
   "id": "e976fe65",
   "metadata": {},
   "outputs": [
    {
     "name": "stdout",
     "output_type": "stream",
     "text": [
      "Nya: Xin chào, bạn tên là gì?\n",
      "Me: ...\n",
      "Nya: Nya không nghe rõ, bạn có thể nói lại không?\n",
      "Nya: Nya: Hẹn gặp lại nhé!\n"
     ]
    }
   ],
   "source": [
    "call_sen()"
   ]
  },
  {
   "cell_type": "code",
   "execution_count": 5,
   "id": "021a47a1",
   "metadata": {},
   "outputs": [
    {
     "name": "stdout",
     "output_type": "stream",
     "text": [
      "Me: ...\n"
     ]
    },
    {
     "data": {
      "text/plain": [
       "0"
      ]
     },
     "execution_count": 5,
     "metadata": {},
     "output_type": "execute_result"
    }
   ],
   "source": [
    "get_voice()"
   ]
  }
 ],
 "metadata": {
  "kernelspec": {
   "display_name": "Python 3 (ipykernel)",
   "language": "python",
   "name": "python3"
  },
  "language_info": {
   "codemirror_mode": {
    "name": "ipython",
    "version": 3
   },
   "file_extension": ".py",
   "mimetype": "text/x-python",
   "name": "python",
   "nbconvert_exporter": "python",
   "pygments_lexer": "ipython3",
   "version": "3.9.7"
  }
 },
 "nbformat": 4,
 "nbformat_minor": 5
}
