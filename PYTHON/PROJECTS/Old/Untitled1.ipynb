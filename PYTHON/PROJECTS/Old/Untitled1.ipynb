{
 "cells": [
  {
   "cell_type": "code",
   "execution_count": 13,
   "id": "41356bc9",
   "metadata": {},
   "outputs": [
    {
     "ename": "UnboundLocalError",
     "evalue": "local variable 'nextnote' referenced before assignment",
     "output_type": "error",
     "traceback": [
      "\u001b[1;31m---------------------------------------------------------------------------\u001b[0m",
      "\u001b[1;31mUnboundLocalError\u001b[0m                         Traceback (most recent call last)",
      "Input \u001b[1;32mIn [13]\u001b[0m, in \u001b[0;36m<cell line: 98>\u001b[1;34m()\u001b[0m\n\u001b[0;32m     99\u001b[0m samenote(a)\n\u001b[0;32m    100\u001b[0m \u001b[38;5;28;01mif\u001b[39;00m \u001b[38;5;124m'\u001b[39m\u001b[38;5;124m0\u001b[39m\u001b[38;5;124m'\u001b[39m:\n\u001b[1;32m--> 101\u001b[0m     b \u001b[38;5;241m=\u001b[39m \u001b[43mnotefive\u001b[49m\u001b[43m(\u001b[49m\u001b[43ma\u001b[49m\u001b[43m)\u001b[49m\n\u001b[0;32m    102\u001b[0m     \u001b[38;5;28;01mif\u001b[39;00m \u001b[38;5;124m'\u001b[39m\u001b[38;5;124m0\u001b[39m\u001b[38;5;124m'\u001b[39m:\n\u001b[0;32m    103\u001b[0m         c \u001b[38;5;241m=\u001b[39m noteeight(a)\n",
      "Input \u001b[1;32mIn [13]\u001b[0m, in \u001b[0;36mnotefive\u001b[1;34m(note)\u001b[0m\n\u001b[0;32m     51\u001b[0m         \u001b[38;5;28;01mif\u001b[39;00m note \u001b[38;5;241m==\u001b[39m octave[i]:\n\u001b[0;32m     52\u001b[0m             nextnote \u001b[38;5;241m=\u001b[39m octave[i\u001b[38;5;241m+\u001b[39m\u001b[38;5;241m4\u001b[39m]\n\u001b[1;32m---> 53\u001b[0m     \u001b[38;5;28;01mreturn\u001b[39;00m \u001b[43mnextnote\u001b[49m\n\u001b[0;32m     54\u001b[0m \u001b[38;5;28;01melse\u001b[39;00m:\n\u001b[0;32m     55\u001b[0m     \u001b[38;5;28;01mreturn\u001b[39;00m \u001b[38;5;241m0\u001b[39m\n",
      "\u001b[1;31mUnboundLocalError\u001b[0m: local variable 'nextnote' referenced before assignment"
     ]
    }
   ],
   "source": [
    "import numpy as np\n",
    "import matplotlib.pyplot as plt\n",
    "import random\n",
    "\n",
    "samplerate = 4400\n",
    "\n",
    "octave = ['0', '1', '2', '3', '4', '5', '6', '7', '8', '9', '10', '11', '12', \n",
    "                   '1a', '2a', '3a', '4a', '5a', '6a', '7a', '8a', '9a', '10a', '11a', '12a', \n",
    "                   '1b', '2b', '3b', '4b', '5b', '6b', '7b', '8b', '9b', '10b', '11b', '12b'] \n",
    "\n",
    "def get_wave(freq, duration = 0.20):\n",
    "    amplitude = 4096\n",
    "    t = np.linspace(0, duration, int(samplerate * duration))\n",
    "    wave = amplitude * np.sin(2 * np.pi * freq * t)\n",
    "    return wave\n",
    "\n",
    "\n",
    "def get_piano_notes():\n",
    "    octave = ['0', '1', '2', '3', '4', '5', '6', '7', '8', '9', '10', '11', '12', \n",
    "                   '1a', '2a', '3a', '4a', '5a', '6a', '7a', '8a', '9a', '10a', '11a', '12a', \n",
    "                   '1b', '2b', '3b', '4b', '5b', '6b', '7b', '8b', '9b', '10b', '11b', '12b'] \n",
    "    base_freq = 246.94\n",
    "    note_freqs = {octave[i]: base_freq * pow(2,(i/12)) for i in range(len(octave))}        \n",
    "    note_freqs['x'] = 0.0\n",
    "    return note_freqs\n",
    "  \n",
    "note_freqs = get_piano_notes()\n",
    "\n",
    "def get_song_data(music_notes):\n",
    "    note_freqs = get_piano_notes() # Function that we made earlier\n",
    "    song = [get_wave(note_freqs[note]) for note in music_notes.split(' ')]\n",
    "    song = np.concatenate(song)\n",
    "    return song\n",
    "\n",
    "def listToString(s): \n",
    "    str = \"\"  \n",
    "    return (str.join(s))  \n",
    "\n",
    "def samenote(note):\n",
    "    a = random.randint(0, 1)\n",
    "    if a == 0:\n",
    "        nextnote = note\n",
    "        return nextnote\n",
    "    else:\n",
    "        return 0\n",
    "    \n",
    "def notefive(note):\n",
    "    a = random.randint(0, 1)\n",
    "    if a == 0:\n",
    "        for i in range(len(octave)):\n",
    "            if note == octave[i]:\n",
    "                nextnote = octave[i+4]\n",
    "        return nextnote\n",
    "    else:\n",
    "        return 0\n",
    "\n",
    "def noteeight(note):\n",
    "    a = random.randint(0, 1)\n",
    "    if a == 0:\n",
    "        for i in range(len(octave)):\n",
    "            if note == octave[i]:\n",
    "                nextnote = octave[i+7]\n",
    "        return nextnote\n",
    "    else:\n",
    "        return 0\n",
    "    \n",
    "def noteten(note):\n",
    "    a = random.randint(0, 1)\n",
    "    if a == 0:\n",
    "        for i in range(len(octave)):\n",
    "            if note == octave[i]:\n",
    "                nextnote = octave[i+9]\n",
    "        return nextnote\n",
    "    else:\n",
    "        return 0    \n",
    "    \n",
    "def notemone(note):\n",
    "    a = random.randint(0, 1)\n",
    "    if a == 0:\n",
    "        for i in range(len(octave)):\n",
    "            if note == octave[i]:\n",
    "                nextnote = octave[i-2]\n",
    "        return nextnote\n",
    "    else:\n",
    "        return 0    \n",
    "\n",
    "def notepone(note):\n",
    "    a = random.randint(0, 1)\n",
    "    if a == 0:\n",
    "        for i in range(len(octave)):\n",
    "            if note == octave[i]:\n",
    "                nextnote = octave[i+2]\n",
    "        return nextnote\n",
    "    else:\n",
    "        return 0    \n",
    "\n",
    "\n",
    "        \n",
    "print(a)\n",
    "music_notes = '1'\n",
    "data = get_song_data(music_notes)\n",
    "\n",
    "data = data * (16300/np.max(data))\n",
    "\n",
    "from scipy.io.wavfile import write\n",
    "write('testwave.wav', samplerate, data.astype(np.int16))\n"
   ]
  },
  {
   "cell_type": "code",
   "execution_count": 41,
   "id": "847b50df",
   "metadata": {},
   "outputs": [
    {
     "data": {
      "text/plain": [
       "array([ 0.00000000e+00,  2.40804168e+03,  3.89588891e+03, ...,\n",
       "       -3.89588891e+03, -2.40804168e+03,  2.57070442e-10])"
      ]
     },
     "execution_count": 41,
     "metadata": {},
     "output_type": "execute_result"
    }
   ],
   "source": [
    "import numpy as np\n",
    "import matplotlib.pyplot as plt\n",
    "\n",
    "samplerate = 4400\n",
    "\n",
    "def get_wave(freq, duration = 0.20):\n",
    "    a = []\n",
    "    amplitude = 4096\n",
    "    t = np.linspace(0, duration, int(samplerate * duration))\n",
    "    wave = amplitude * np.sin(2 * np.pi * freq * t)\n",
    "    return wave\n",
    "get_wave(440, 1)\n",
    "\n"
   ]
  },
  {
   "cell_type": "code",
   "execution_count": 26,
   "id": "638e19df",
   "metadata": {},
   "outputs": [
    {
     "name": "stdout",
     "output_type": "stream",
     "text": [
      "array('d', [1.1, 3.5, 4.5, 5.0, 5.0, 6.0])\n"
     ]
    }
   ],
   "source": [
    "import array as arr\n",
    "a = arr.array('d',[1.1, 3.5, 4.5]) \n",
    "a.append(5)\n",
    "a.extend([5,6])\n",
    "print(a)"
   ]
  },
  {
   "cell_type": "code",
   "execution_count": 5,
   "id": "e0641d99",
   "metadata": {},
   "outputs": [
    {
     "name": "stdout",
     "output_type": "stream",
     "text": [
      "GeeksforGeeks a\n"
     ]
    }
   ],
   "source": [
    "\n",
    "s = ['Geeks', 'for', 'Geeks', ' ', 'a']\n",
    "print(listToString(s)) "
   ]
  },
  {
   "cell_type": "code",
   "execution_count": 104,
   "id": "bde86621",
   "metadata": {},
   "outputs": [
    {
     "data": {
      "text/plain": [
       "'1'"
      ]
     },
     "execution_count": 104,
     "metadata": {},
     "output_type": "execute_result"
    }
   ],
   "source": [
    "import random\n",
    "def samenote(note):\n",
    "    a = random.randint(0, 1)\n",
    "    if a == 0:\n",
    "        nextnote = note\n",
    "        return nextnote\n",
    "    else:\n",
    "        return 0\n",
    "samenote('1')\n",
    "    "
   ]
  },
  {
   "cell_type": "code",
   "execution_count": 105,
   "id": "91e3c1ee",
   "metadata": {},
   "outputs": [
    {
     "data": {
      "text/plain": [
       "'5'"
      ]
     },
     "execution_count": 105,
     "metadata": {},
     "output_type": "execute_result"
    }
   ],
   "source": [
    "import random\n",
    "octave = ['0', '1', '2', '3', '4', '5', '6', '7', '8', '9', '10', '11', '12', \n",
    "                   '1a', '2a', '3a', '4a', '5a', '6a', '7a', '8a', '9a', '10a', '11a', '12a', \n",
    "                   '1b', '2b', '3b', '4b', '5b', '6b', '7b', '8b', '9b', '10b', '11b', '12b'] \n",
    "def notefive(note):\n",
    "    a = random.randint(0, 1)\n",
    "    if a == 0:\n",
    "        for i in range(len(octave)):\n",
    "            if note == octave[i]:\n",
    "                nextnote = octave[i+4]\n",
    "    \n",
    "        return nextnote\n",
    "    else:\n",
    "        return 0\n",
    "notefive('1')"
   ]
  },
  {
   "cell_type": "code",
   "execution_count": 148,
   "id": "6752fe49",
   "metadata": {},
   "outputs": [
    {
     "data": {
      "text/plain": [
       "'8a'"
      ]
     },
     "execution_count": 148,
     "metadata": {},
     "output_type": "execute_result"
    }
   ],
   "source": [
    "import random\n",
    "octave = ['0', '1', '2', '3', '4', '5', '6', '7', '8', '9', '10', '11', '12', \n",
    "                   '1a', '2a', '3a', '4a', '5a', '6a', '7a', '8a', '9a', '10a', '11a', '12a', \n",
    "                   '1b', '2b', '3b', '4b', '5b', '6b', '7b', '8b', '9b', '10b', '11b', '12b'] \n",
    "def noteeight(note):\n",
    "    a = random.randint(0, 1)\n",
    "    if a == 0:\n",
    "        for i in range(len(octave)):\n",
    "            if note == octave[i]:\n",
    "                nextnote = octave[i+7]\n",
    "    \n",
    "        return nextnote\n",
    "    else:\n",
    "        return 0\n",
    "noteeight('1a')"
   ]
  },
  {
   "cell_type": "code",
   "execution_count": 154,
   "id": "8e237bc2",
   "metadata": {},
   "outputs": [
    {
     "data": {
      "text/plain": [
       "'10a'"
      ]
     },
     "execution_count": 154,
     "metadata": {},
     "output_type": "execute_result"
    }
   ],
   "source": [
    "import random\n",
    "octave = ['0', '1', '2', '3', '4', '5', '6', '7', '8', '9', '10', '11', '12', \n",
    "                   '1a', '2a', '3a', '4a', '5a', '6a', '7a', '8a', '9a', '10a', '11a', '12a', \n",
    "                   '1b', '2b', '3b', '4b', '5b', '6b', '7b', '8b', '9b', '10b', '11b', '12b'] \n",
    "def noteten(note):\n",
    "    a = random.randint(0, 1)\n",
    "    if a == 0:\n",
    "        for i in range(len(octave)):\n",
    "            if note == octave[i]:\n",
    "                nextnote = octave[i+9]\n",
    "    \n",
    "        return nextnote\n",
    "    else:\n",
    "        return 0\n",
    "noteten('1a')"
   ]
  },
  {
   "cell_type": "code",
   "execution_count": 162,
   "id": "bf4b3a15",
   "metadata": {},
   "outputs": [
    {
     "data": {
      "text/plain": [
       "0"
      ]
     },
     "execution_count": 162,
     "metadata": {},
     "output_type": "execute_result"
    }
   ],
   "source": [
    "import random\n",
    "octave = ['0', '1', '2', '3', '4', '5', '6', '7', '8', '9', '10', '11', '12', \n",
    "                   '1a', '2a', '3a', '4a', '5a', '6a', '7a', '8a', '9a', '10a', '11a', '12a', \n",
    "                   '1b', '2b', '3b', '4b', '5b', '6b', '7b', '8b', '9b', '10b', '11b', '12b'] \n",
    "def notemone(note):\n",
    "    a = random.randint(0, 1)\n",
    "    if a == 0:\n",
    "        for i in range(len(octave)):\n",
    "            if note == octave[i]:\n",
    "                nextnote = octave[i-2]\n",
    "    \n",
    "        return nextnote\n",
    "    else:\n",
    "        return 0\n",
    "notemone('1a')"
   ]
  },
  {
   "cell_type": "code",
   "execution_count": 166,
   "id": "753198df",
   "metadata": {},
   "outputs": [
    {
     "data": {
      "text/plain": [
       "'3a'"
      ]
     },
     "execution_count": 166,
     "metadata": {},
     "output_type": "execute_result"
    }
   ],
   "source": [
    "import random\n",
    "octave = ['0', '1', '2', '3', '4', '5', '6', '7', '8', '9', '10', '11', '12', \n",
    "                   '1a', '2a', '3a', '4a', '5a', '6a', '7a', '8a', '9a', '10a', '11a', '12a', \n",
    "                   '1b', '2b', '3b', '4b', '5b', '6b', '7b', '8b', '9b', '10b', '11b', '12b'] \n",
    "def notepone(note):\n",
    "    a = random.randint(0, 1)\n",
    "    if a == 0:\n",
    "        for i in range(len(octave)):\n",
    "            if note == octave[i]:\n",
    "                nextnote = octave[i+2]\n",
    "    \n",
    "        return nextnote\n",
    "    else:\n",
    "        return 0\n",
    "notepone('1a')"
   ]
  }
 ],
 "metadata": {
  "kernelspec": {
   "display_name": "Python 3 (ipykernel)",
   "language": "python",
   "name": "python3"
  },
  "language_info": {
   "codemirror_mode": {
    "name": "ipython",
    "version": 3
   },
   "file_extension": ".py",
   "mimetype": "text/x-python",
   "name": "python",
   "nbconvert_exporter": "python",
   "pygments_lexer": "ipython3",
   "version": "3.9.7"
  }
 },
 "nbformat": 4,
 "nbformat_minor": 5
}
