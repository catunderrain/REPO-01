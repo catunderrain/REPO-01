{
 "cells": [
  {
   "cell_type": "code",
   "execution_count": 9,
   "id": "63735e60",
   "metadata": {},
   "outputs": [
    {
     "name": "stdout",
     "output_type": "stream",
     "text": [
      "width=720, height=720, depth=3\n"
     ]
    }
   ],
   "source": [
    "import numpy as np\n",
    "import cv2\n",
    "img = cv2.imread('a.jpg')\n",
    "\n",
    "(h, w, d) = img.shape\n",
    "r = 300.0 / w \n",
    "dim = (300, int(h * r))\n",
    "\n",
    "resized = cv2.resize(img, (200,100))\n",
    "cv2.imshow('a',resized)\n",
    "cv2.waitKey(0)\n",
    "(h, w, d) = img.shape\n",
    "print(\"width={}, height={}, depth={}\".format(w, h, d))"
   ]
  },
  {
   "cell_type": "code",
   "execution_count": 1,
   "id": "ceacfce0",
   "metadata": {},
   "outputs": [],
   "source": [
    "import cv2\n",
    "img = cv2.imread('a.jpg') \n",
    "(h, w, d) = img.shape \n",
    "center = (w / 2, h / 2) \n",
    "M = cv2.getRotationMatrix2D(center, 45, 1.0) \n",
    "rotated = cv2.warpAffine(img, M, (w, h))\n",
    "cv2.imshow('a',rotated)"
   ]
  }
 ],
 "metadata": {
  "kernelspec": {
   "display_name": "Python 3 (ipykernel)",
   "language": "python",
   "name": "python3"
  },
  "language_info": {
   "codemirror_mode": {
    "name": "ipython",
    "version": 3
   },
   "file_extension": ".py",
   "mimetype": "text/x-python",
   "name": "python",
   "nbconvert_exporter": "python",
   "pygments_lexer": "ipython3",
   "version": "3.9.7"
  }
 },
 "nbformat": 4,
 "nbformat_minor": 5
}
