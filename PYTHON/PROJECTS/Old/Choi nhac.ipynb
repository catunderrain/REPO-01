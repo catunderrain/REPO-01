{
 "cells": [
  {
   "cell_type": "code",
   "execution_count": null,
   "id": "61eb443d",
   "metadata": {},
   "outputs": [],
   "source": [
    "import numpy as np\n",
    "\n",
    "samplerate = 4400\n",
    "\n",
    "def get_wave(freq, duration = 0.20):\n",
    "    amplitude = 4096\n",
    "    t = np.linspace(0, duration, int(samplerate * duration))\n",
    "    wave = amplitude * np.sin(2 * np.pi * freq * t)\n",
    "    return wave\n",
    "\n",
    "a_wave = get_wave(440, 1)\n",
    "\n",
    "print(len(a_wave))\n",
    "print(np.max(a_wave))\n",
    "print(np.min(a_wave))\n",
    "\n",
    "\n",
    "def get_piano_notes():\n",
    "    octave = ['C', 'c', 'D', 'd', 'E', 'F', 'f', 'G', 'g', 'A', 'a', 'B','C1', 'c1', 'D1', 'd1', 'E1', 'F1', 'f1', 'G1', 'g1', 'A1', 'a1', 'B1'] \n",
    "    base_freq = 261.63\n",
    "    note_freqs = {octave[i]: base_freq * pow(2,(i/12)) for i in range(len(octave))}        \n",
    "    note_freqs[''] = 0.0\n",
    "    return note_freqs\n",
    "  \n",
    "note_freqs = get_piano_notes()\n",
    "\n",
    "def get_song_data(music_notes):\n",
    "    note_freqs = get_piano_notes() # Function that we made earlier\n",
    "    song = [get_wave(note_freqs[note]) for note in music_notes.split('-')]\n",
    "    song = np.concatenate(song)\n",
    "    return song\n",
    "\n",
    "music_notes = 'C1-B-A'\n",
    "data = get_song_data(music_notes)\n",
    "\n",
    "data = data * (16300/np.max(data))\n",
    "\n",
    "from scipy.io.wavfile import write\n",
    "write('testwave.wav', samplerate, data.astype(np.int16))\n",
    "print(music_notes)"
   ]
  }
 ],
 "metadata": {
  "kernelspec": {
   "display_name": "Python 3 (ipykernel)",
   "language": "python",
   "name": "python3"
  },
  "language_info": {
   "codemirror_mode": {
    "name": "ipython",
    "version": 3
   },
   "file_extension": ".py",
   "mimetype": "text/x-python",
   "name": "python",
   "nbconvert_exporter": "python",
   "pygments_lexer": "ipython3",
   "version": "3.9.7"
  }
 },
 "nbformat": 4,
 "nbformat_minor": 5
}
