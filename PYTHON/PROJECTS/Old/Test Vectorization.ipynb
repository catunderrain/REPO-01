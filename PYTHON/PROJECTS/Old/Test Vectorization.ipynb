{
 "cells": [
  {
   "cell_type": "code",
   "execution_count": 6,
   "id": "2ea73e30",
   "metadata": {},
   "outputs": [
    {
     "name": "stdout",
     "output_type": "stream",
     "text": [
      "[0.49123005 0.38353109 0.91513741 ... 0.44543229 0.32117047 0.11795823] [0.31703818 0.02890501 0.98067604 ... 0.91356194 0.26173304 0.13845128]\n",
      "Vectorization time :  0.09095287322998047\n",
      "For-loop time :  61.76069641113281\n"
     ]
    }
   ],
   "source": [
    "import numpy as np\n",
    "import time\n",
    "a = np.random.rand(100000000)\n",
    "b = np.random.rand(100000000)\n",
    "print(a,b)\n",
    "start = time.time()\n",
    "c = np.dot(a, b.T)\n",
    "end = time.time()\n",
    "print(\"Vectorization time : \", end-start)\n",
    "start = time.time()\n",
    "c = 0\n",
    "for i in range(len(a)):\n",
    "    c += a[i] * b[i]\n",
    "end = time.time()\n",
    "print(\"For-loop time : \", end-start)"
   ]
  }
 ],
 "metadata": {
  "kernelspec": {
   "display_name": "Python 3 (ipykernel)",
   "language": "python",
   "name": "python3"
  },
  "language_info": {
   "codemirror_mode": {
    "name": "ipython",
    "version": 3
   },
   "file_extension": ".py",
   "mimetype": "text/x-python",
   "name": "python",
   "nbconvert_exporter": "python",
   "pygments_lexer": "ipython3",
   "version": "3.9.7"
  }
 },
 "nbformat": 4,
 "nbformat_minor": 5
}
