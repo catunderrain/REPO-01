{
 "cells": [
  {
   "cell_type": "code",
   "execution_count": 1102,
   "id": "d7eb5cdd",
   "metadata": {},
   "outputs": [
    {
     "name": "stdout",
     "output_type": "stream",
     "text": [
      "['a', 'b', 'c', 'd', 'c', 'c', 'a', 'c', 'c', 'd']\n",
      "abcdccaccd\n",
      "['a.', 'b.', 'c.', 'd.', 'c.', 'c.', 'a.', 'c.', 'c.', 'd.']\n",
      "a.b.c.d.c.c.a.c.c.d\n"
     ]
    }
   ],
   "source": [
    "import random\n",
    "\n",
    "g = []\n",
    "\n",
    "def a():\n",
    "    i = random.randint(0, 1)\n",
    "    if i == 0:\n",
    "        return 0\n",
    "    else:\n",
    "        return 'a'\n",
    "\n",
    "def b():\n",
    "    i = random.randint(0, 1)\n",
    "    if i == 0:\n",
    "        return 0\n",
    "    else:\n",
    "        return 'b'\n",
    "\n",
    "def c():\n",
    "    i = random.randint(0, 1)\n",
    "    if i == 0:\n",
    "        return 0\n",
    "    else:\n",
    "        return 'c'\n",
    "\n",
    "def d():\n",
    "    i = random.randint(0, 1)\n",
    "    if i == 0:\n",
    "        return 0\n",
    "    else:\n",
    "        return 'd'\n",
    "\n",
    "for k in range(10):\n",
    "    x = random.randint(0,3)\n",
    "    if x == 0:\n",
    "        y = 0\n",
    "        while y == 0:\n",
    "            y = a()\n",
    "        g.append(y)\n",
    "        continue\n",
    "    if x == 1:\n",
    "        y = 0\n",
    "        while y == 0:\n",
    "            y = b()\n",
    "        g.append(y)\n",
    "        continue\n",
    "    if x == 2:\n",
    "        y = 0\n",
    "        while y == 0:\n",
    "            y = c()\n",
    "        g.append(y)\n",
    "        continue   \n",
    "    if x == 3:\n",
    "        y = 0\n",
    "        while y == 0:\n",
    "            y = d()\n",
    "        g.append(y)\n",
    "        continue\n",
    "\n",
    "print(g)\n",
    "v = ''\n",
    "print(v.join(g))\n",
    "for i in range(len(g)):\n",
    "    g[i] = g[i] + '.'\n",
    "print(g)\n",
    "print(v.join(g)[:2*len(g)-1])"
   ]
  },
  {
   "cell_type": "code",
   "execution_count": 30,
   "id": "666a31da",
   "metadata": {},
   "outputs": [
    {
     "name": "stdout",
     "output_type": "stream",
     "text": [
      "0\n"
     ]
    }
   ],
   "source": [
    "import random\n",
    "a = random.randint(0, 1)\n",
    "print(a)"
   ]
  },
  {
   "cell_type": "code",
   "execution_count": 951,
   "id": "cfdaccc5",
   "metadata": {},
   "outputs": [
    {
     "name": "stdout",
     "output_type": "stream",
     "text": [
      "1\n",
      "b\n"
     ]
    }
   ],
   "source": [
    "import random\n",
    "\n",
    "def a():\n",
    "    i = random.randint(0, 1)\n",
    "    if i == 0:\n",
    "        return 0\n",
    "    else:\n",
    "        return 1\n",
    "x = a()\n",
    "print(x)\n",
    "if  x == 0:\n",
    "    print('a')\n",
    "else:\n",
    "    print('b')\n"
   ]
  },
  {
   "cell_type": "code",
   "execution_count": null,
   "id": "da3f2639",
   "metadata": {},
   "outputs": [],
   "source": []
  }
 ],
 "metadata": {
  "kernelspec": {
   "display_name": "Python 3 (ipykernel)",
   "language": "python",
   "name": "python3"
  },
  "language_info": {
   "codemirror_mode": {
    "name": "ipython",
    "version": 3
   },
   "file_extension": ".py",
   "mimetype": "text/x-python",
   "name": "python",
   "nbconvert_exporter": "python",
   "pygments_lexer": "ipython3",
   "version": "3.9.7"
  }
 },
 "nbformat": 4,
 "nbformat_minor": 5
}
