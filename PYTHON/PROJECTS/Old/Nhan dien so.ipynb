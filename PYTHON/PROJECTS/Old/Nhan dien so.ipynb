{
 "cells": [
  {
   "cell_type": "code",
   "execution_count": 5,
   "id": "aafa85bb",
   "metadata": {},
   "outputs": [
    {
     "name": "stdout",
     "output_type": "stream",
     "text": [
      "(50000, 28, 28)\n",
      "Y ban dau:  [5 0 4 ... 8 4 8]\n",
      "Y sau:  [[0. 0. 0. ... 0. 0. 0.]\n",
      " [1. 0. 0. ... 0. 0. 0.]\n",
      " [0. 0. 0. ... 0. 0. 0.]\n",
      " ...\n",
      " [0. 0. 0. ... 0. 1. 0.]\n",
      " [0. 0. 0. ... 0. 0. 0.]\n",
      " [0. 0. 0. ... 0. 1. 0.]]\n",
      "Epoch 1/10\n",
      "1563/1563 [==============================] - 102s 65ms/step - loss: 0.3228 - accuracy: 0.9142 - val_loss: 0.0710 - val_accuracy: 0.9817\n",
      "Epoch 2/10\n",
      "1563/1563 [==============================] - 105s 67ms/step - loss: 0.0616 - accuracy: 0.9825 - val_loss: 0.0606 - val_accuracy: 0.9825\n",
      "Epoch 3/10\n",
      "1563/1563 [==============================] - 98s 63ms/step - loss: 0.0390 - accuracy: 0.9885 - val_loss: 0.0425 - val_accuracy: 0.9872\n",
      "Epoch 4/10\n",
      "1563/1563 [==============================] - 104s 67ms/step - loss: 0.0267 - accuracy: 0.9916 - val_loss: 0.0432 - val_accuracy: 0.9869\n",
      "Epoch 5/10\n",
      "1563/1563 [==============================] - 106s 68ms/step - loss: 0.0183 - accuracy: 0.9948 - val_loss: 0.0406 - val_accuracy: 0.9882\n",
      "Epoch 6/10\n",
      "1563/1563 [==============================] - 108s 69ms/step - loss: 0.0119 - accuracy: 0.9968 - val_loss: 0.0464 - val_accuracy: 0.9858\n",
      "Epoch 7/10\n",
      "1563/1563 [==============================] - 107s 68ms/step - loss: 0.0086 - accuracy: 0.9979 - val_loss: 0.0428 - val_accuracy: 0.9881\n",
      "Epoch 8/10\n",
      "1563/1563 [==============================] - 109s 70ms/step - loss: 0.0070 - accuracy: 0.9982 - val_loss: 0.0428 - val_accuracy: 0.9879\n",
      "Epoch 9/10\n",
      "1563/1563 [==============================] - 109s 70ms/step - loss: 0.0061 - accuracy: 0.9984 - val_loss: 0.0448 - val_accuracy: 0.9873\n",
      "Epoch 10/10\n",
      "1563/1563 [==============================] - 109s 70ms/step - loss: 0.0022 - accuracy: 0.9998 - val_loss: 0.0424 - val_accuracy: 0.9893\n"
     ]
    }
   ],
   "source": [
    "import numpy as np\n",
    "import matplotlib.pyplot as plt\n",
    "from keras.models import Sequential\n",
    "from keras.layers import Dense, Dropout, Activation, Flatten\n",
    "from keras.layers import Conv2D, MaxPooling2D\n",
    "from keras.utils import np_utils\n",
    "from keras.datasets import mnist\n",
    "\n",
    "(X_train, y_train), (X_test, y_test) = mnist.load_data()\n",
    "X_val, y_val = X_train[50000:60000,:], y_train[50000:60000]\n",
    "X_train, y_train = X_train[:50000,:], y_train[:50000]\n",
    "print(X_train.shape)\n",
    "X_train = X_train.reshape(X_train.shape[0], 28, 28, 1)\n",
    "X_val = X_val.reshape(X_val.shape[0], 28, 28, 1)\n",
    "X_test = X_test.reshape(X_test.shape[0], 28, 28, 1)\n",
    "\n",
    "Y_train = np_utils.to_categorical(y_train, 10)\n",
    "Y_val = np_utils.to_categorical(y_val, 10)\n",
    "Y_test = np_utils.to_categorical(y_test, 10)\n",
    "print('Y ban dau: ', y_train)\n",
    "print('Y sau: ', Y_train)\n",
    "model = Sequential()\n",
    "model.add(Conv2D(32, (3, 3), activation = 'sigmoid', input_shape = (28, 28, 1)))\n",
    "model.add(Conv2D(32, (3, 3), activation = 'sigmoid'))\n",
    "model.add(MaxPooling2D(pool_size = (2, 2)))\n",
    "model.add(Flatten())\n",
    "model.add(Dense(128, activation = 'sigmoid'))\n",
    "model.add(Dense(10, activation = 'softmax'))\n",
    "model.compile(loss = 'categorical_crossentropy', optimizer = 'adam', metrics = ['accuracy'])\n",
    "H = model.fit(X_train, Y_train, validation_data = (X_val, Y_val), batch_size = 32, epochs = 10, verbose = 1)"
   ]
  },
  {
   "cell_type": "code",
   "execution_count": 1,
   "id": "8c452f30",
   "metadata": {},
   "outputs": [
    {
     "ename": "NameError",
     "evalue": "name 'plt' is not defined",
     "output_type": "error",
     "traceback": [
      "\u001b[1;31m---------------------------------------------------------------------------\u001b[0m",
      "\u001b[1;31mNameError\u001b[0m                                 Traceback (most recent call last)",
      "\u001b[1;32mc:\\Users\\lovem\\1-PythonHouse\\Old\\Nhan dien so.ipynb Cell 2'\u001b[0m in \u001b[0;36m<cell line: 1>\u001b[1;34m()\u001b[0m\n\u001b[1;32m----> <a href='vscode-notebook-cell:/c%3A/Users/lovem/1-PythonHouse/Old/Nhan%20dien%20so.ipynb#ch0000001?line=0'>1</a>\u001b[0m fig \u001b[39m=\u001b[39m plt\u001b[39m.\u001b[39mfigure()\n\u001b[0;32m      <a href='vscode-notebook-cell:/c%3A/Users/lovem/1-PythonHouse/Old/Nhan%20dien%20so.ipynb#ch0000001?line=1'>2</a>\u001b[0m numOfEpoch \u001b[39m=\u001b[39m \u001b[39m10\u001b[39m\n\u001b[0;32m      <a href='vscode-notebook-cell:/c%3A/Users/lovem/1-PythonHouse/Old/Nhan%20dien%20so.ipynb#ch0000001?line=2'>3</a>\u001b[0m \u001b[39mprint\u001b[39m(H\u001b[39m.\u001b[39mhistory)\n",
      "\u001b[1;31mNameError\u001b[0m: name 'plt' is not defined"
     ]
    }
   ],
   "source": [
    "fig = plt.figure()\n",
    "numOfEpoch = 10\n",
    "print(H.history)\n",
    "plt.plot(np.arange(0, numOfEpoch), H.history['loss'], label = 'training loss')\n",
    "plt.plot(np.arange(0, numOfEpoch), H.history['val_loss'], label = 'validation loss')\n",
    "plt.plot(np.arange(0, numOfEpoch), H.history['accuracy'], label = 'accuracy')\n",
    "plt.plot(np.arange(0, numOfEpoch), H.history['val_accuracy'], label = 'validation accuracy')\n",
    "plt.title('Accuracy and Loss')\n",
    "plt.xlabel('Epoch')\n",
    "plt.ylabel('Accuracy|Loss')\n",
    "plt.legend()\n",
    "score = model.evaluate(X_test, Y_test, verbose = 0)\n",
    "print(score)"
   ]
  },
  {
   "cell_type": "code",
   "execution_count": 9,
   "id": "87526a59",
   "metadata": {},
   "outputs": [
    {
     "name": "stdout",
     "output_type": "stream",
     "text": [
      "Gia tri du doan:  5\n"
     ]
    },
    {
     "data": {
      "image/png": "[encoded data removed]",
      "text/plain": [
       "<Figure size 432x288 with 1 Axes>"
      ]
     },
     "metadata": {
      "needs_background": "light"
     },
     "output_type": "display_data"
    }
   ],
   "source": [
    "a = 2001\n",
    "\n",
    "plt.imshow(X_test[a].reshape(28, 28), cmap = 'gray')\n",
    "y_predict = model.predict(X_test[a].reshape(1, 28, 28, 1))\n",
    "print('Gia tri du doan: ', np.argmax(y_predict))"
   ]
  }
 ],
 "metadata": {
  "kernelspec": {
   "display_name": "Python 3 (ipykernel)",
   "language": "python",
   "name": "python3"
  },
  "language_info": {
   "codemirror_mode": {
    "name": "ipython",
    "version": 3
   },
   "file_extension": ".py",
   "mimetype": "text/x-python",
   "name": "python",
   "nbconvert_exporter": "python",
   "pygments_lexer": "ipython3",
   "version": "3.10.1"
  }
 },
 "nbformat": 4,
 "nbformat_minor": 5
}
