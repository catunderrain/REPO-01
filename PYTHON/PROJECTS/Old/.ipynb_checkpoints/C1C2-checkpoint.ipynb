{
 "cells": [
  {
   "cell_type": "code",
   "execution_count": null,
   "id": "e2c3edaf",
   "metadata": {},
   "outputs": [],
   "source": [
    "import numpy as np\n",
    "print(np.pi)"
   ]
  },
  {
   "cell_type": "code",
   "execution_count": null,
   "id": "a4bf542e",
   "metadata": {},
   "outputs": [],
   "source": [
    "a=2\n",
    "print(a!='{} {}, {}'.format(1,2,3))"
   ]
  },
  {
   "cell_type": "code",
   "execution_count": null,
   "id": "7a0119b9",
   "metadata": {},
   "outputs": [],
   "source": [
    "import numpy as np\n",
    "s=\" con cac \"\n",
    "print(s.replace('c','t'))\n",
    "print(s.capitalize())\n",
    "print(s.strip())\n",
    "a=s.strip()\n",
    "print(s.split())\n",
    "b=s.split()\n",
    "c=np.array(b)\n",
    "print(c)\n",
    "print('|'.join(b))\n",
    "print('|'.join(c))"
   ]
  },
  {
   "cell_type": "code",
   "execution_count": null,
   "id": "a8169410",
   "metadata": {},
   "outputs": [],
   "source": [
    "\n",
    "a=[1,2,3]\n",
    "print(a[2])\n",
    "a[2]='vkl'\n",
    "print(a)\n",
    "a.append('vailoz')\n",
    "print(a)\n",
    "b=a.pop()\n",
    "print(a,b)"
   ]
  },
  {
   "cell_type": "code",
   "execution_count": null,
   "id": "eb05547d",
   "metadata": {},
   "outputs": [],
   "source": [
    "import numpy as np\n",
    "nums=list(range(5))\n",
    "print(nums)\n",
    "a=np.array(nums)\n",
    "print(a)\n",
    "print(a[2:4])\n",
    "print(nums[2:4])\n",
    "nums[2:3]=[8,9,10,1282183129873429]\n",
    "print(nums)"
   ]
  },
  {
   "cell_type": "code",
   "execution_count": 1,
   "id": "38292dec",
   "metadata": {},
   "outputs": [
    {
     "name": "stdout",
     "output_type": "stream",
     "text": [
      "cat\n",
      "dog\n",
      "monkey\n",
      "#0: cat\n",
      "#1: dog\n",
      "#2: monkey\n"
     ]
    }
   ],
   "source": [
    "animals = ['cat', 'dog', 'monkey']\n",
    "for animal in animals:\n",
    "    print('%s' % (animal))\n",
    "for a, animal in enumerate(animals):\n",
    "    print('#%d: %s' % (a, animal))"
   ]
  },
  {
   "cell_type": "code",
   "execution_count": 24,
   "id": "d48f6c0e",
   "metadata": {},
   "outputs": [
    {
     "name": "stdout",
     "output_type": "stream",
     "text": [
      "1\n",
      "True\n",
      "False\n",
      "{'a': 1, 'b': 2, 'c': 3, 'd': 4}\n",
      "{'a': 1, 'c': 3, 'd': 4}\n",
      "{'a': 1, 'c': 3, 'd': 4}\n",
      "a vai lon 1\n",
      "c vai lon 3\n",
      "d vai lon 4\n",
      "1 cai lon\n",
      "3 cai lon\n",
      "4 cai lon\n",
      "vai a 1\n",
      "vai c 3\n",
      "vai d 4\n"
     ]
    }
   ],
   "source": [
    "import numpy as np\n",
    "d={'a':1,'b':2,'c':3}\n",
    "print(d['a'])\n",
    "print('a' in d)\n",
    "print('z' in d)\n",
    "d['d']=4\n",
    "print(d)\n",
    "del d['b']\n",
    "print(d)\n",
    "print(np.array(d))\n",
    "for concac in d:\n",
    "    print('%s vai lon %d' % (concac,d[concac]))\n",
    "for concu in d.values():\n",
    "    print('%d cai lon' % concu)\n",
    "for concac, cailon in d.items():\n",
    "    print('vai %s %d' % (concac,cailon))"
   ]
  },
  {
   "cell_type": "code",
   "execution_count": 28,
   "id": "ea29e7c2",
   "metadata": {},
   "outputs": [
    {
     "name": "stdout",
     "output_type": "stream",
     "text": [
      "nhung anh deo yeu em\n",
      "ke con me em\n",
      "vai lon ai day?!\n"
     ]
    }
   ],
   "source": [
    "def ask(a):\n",
    "    if a=='co':\n",
    "        return 'nhung anh deo yeu em'\n",
    "    if a=='khong':\n",
    "        return 'ke con me em'\n",
    "    else:\n",
    "        return 'vai lon ai day?!'\n",
    "for a in ['co','khong','vailon']:\n",
    "    print(ask(a))"
   ]
  },
  {
   "cell_type": "code",
   "execution_count": 63,
   "id": "f0583450",
   "metadata": {},
   "outputs": [
    {
     "name": "stdout",
     "output_type": "stream",
     "text": [
      "<class 'numpy.ndarray'>\n",
      "(2, 2)\n",
      "[[0. 0. 0.]\n",
      " [0. 0. 0.]\n",
      " [0. 0. 0.]]\n",
      "[[1.]\n",
      " [1.]\n",
      " [1.]]\n",
      "[[1. 0. 0. 0.]\n",
      " [0. 1. 0. 0.]\n",
      " [0. 0. 1. 0.]\n",
      " [0. 0. 0. 1.]]\n",
      "[[5 5 5 5]\n",
      " [5 5 5 5]\n",
      " [5 5 5 5]]\n",
      "[[0.90012011 0.34109809]\n",
      " [0.75401514 0.1964952 ]]\n"
     ]
    }
   ],
   "source": [
    "import numpy as np\n",
    "a = np.array([[1, 2],[2,3]])\n",
    "print(type(a))\n",
    "print(a.shape)\n",
    "print(np.zeros((3,3)))\n",
    "print(np.ones((3,1)))\n",
    "print(np.eye(4))\n",
    "print(np.full((3,4),5))\n",
    "print(np.random.random((2,2)))"
   ]
  }
 ],
 "metadata": {
  "kernelspec": {
   "display_name": "Python 3 (ipykernel)",
   "language": "python",
   "name": "python3"
  },
  "language_info": {
   "codemirror_mode": {
    "name": "ipython",
    "version": 3
   },
   "file_extension": ".py",
   "mimetype": "text/x-python",
   "name": "python",
   "nbconvert_exporter": "python",
   "pygments_lexer": "ipython3",
   "version": "3.9.7"
  }
 },
 "nbformat": 4,
 "nbformat_minor": 5
}
