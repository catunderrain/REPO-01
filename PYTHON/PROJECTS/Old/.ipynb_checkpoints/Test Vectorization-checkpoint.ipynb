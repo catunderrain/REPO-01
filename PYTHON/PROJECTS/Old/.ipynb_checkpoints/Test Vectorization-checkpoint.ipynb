{
 "cells": [
  {
   "cell_type": "code",
   "execution_count": 5,
   "id": "2ea73e30",
   "metadata": {},
   "outputs": [],
   "source": [
    "import os\n",
    "import playsound\n",
    "import speech_recognition as sr\n",
    "import time\n",
    "import sys\n",
    "import ctypes\n",
    "import wikipedia\n",
    "import datetime\n",
    "import json\n",
    "import re\n",
    "import webbrowser\n",
    "import smtplib\n",
    "import requests\n",
    "import urllib\n",
    "import urllib.request as urllib2\n",
    "from selenium import webdriver\n",
    "from selenium.webdriver.common.keys import Keys\n",
    "from webdriver_manager.chrome import ChromeDriverManager\n",
    "from time import strftime\n",
    "from gtts import gTTS\n",
    "from youtube_search import YoutubeSearch\n",
    "\n",
    "def get_audio():\n",
    "\tr = sr.Recognizer()\n",
    "\twith sr.Microphone() as source:\n",
    "\t\taudio = r.listen(source)\n",
    "\t\tsaid = \"\"\n",
    "\n",
    "\t\ttry:\n",
    "\t\t    said = r.recognize_google(audio)\n",
    "\t\t    print(said)\n",
    "\t\texcept Exception as e:\n",
    "\t\t    print(\"Exception: \" + str(e))\n",
    "\n",
    "\treturn said"
   ]
  },
  {
   "cell_type": "code",
   "execution_count": null,
   "id": "340ea490",
   "metadata": {},
   "outputs": [],
   "source": [
    "get_audio()"
   ]
  }
 ],
 "metadata": {
  "kernelspec": {
   "display_name": "Python 3 (ipykernel)",
   "language": "python",
   "name": "python3"
  },
  "language_info": {
   "codemirror_mode": {
    "name": "ipython",
    "version": 3
   },
   "file_extension": ".py",
   "mimetype": "text/x-python",
   "name": "python",
   "nbconvert_exporter": "python",
   "pygments_lexer": "ipython3",
   "version": "3.9.7"
  }
 },
 "nbformat": 4,
 "nbformat_minor": 5
}
