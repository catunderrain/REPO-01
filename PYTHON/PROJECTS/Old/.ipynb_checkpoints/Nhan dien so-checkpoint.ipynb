{
 "cells": [
  {
   "cell_type": "code",
   "execution_count": 1,
   "id": "aafa85bb",
   "metadata": {},
   "outputs": [
    {
     "name": "stdout",
     "output_type": "stream",
     "text": [
      "(50000, 28, 28)\n",
      "Y ban dau:  [5 0 4 ... 8 4 8]\n",
      "Y sau:  [[0. 0. 0. ... 0. 0. 0.]\n",
      " [1. 0. 0. ... 0. 0. 0.]\n",
      " [0. 0. 0. ... 0. 0. 0.]\n",
      " ...\n",
      " [0. 0. 0. ... 0. 1. 0.]\n",
      " [0. 0. 0. ... 0. 0. 0.]\n",
      " [0. 0. 0. ... 0. 1. 0.]]\n",
      "Epoch 1/10\n",
      "807/807 [==============================] - 69s 84ms/step - loss: 0.4259 - accuracy: 0.8862 - val_loss: 0.0946 - val_accuracy: 0.9775\n",
      "Epoch 2/10\n",
      "807/807 [==============================] - 71s 88ms/step - loss: 0.0745 - accuracy: 0.9799 - val_loss: 0.0596 - val_accuracy: 0.9848\n",
      "Epoch 3/10\n",
      "807/807 [==============================] - 73s 91ms/step - loss: 0.0468 - accuracy: 0.9871 - val_loss: 0.0483 - val_accuracy: 0.9869\n",
      "Epoch 4/10\n",
      "807/807 [==============================] - 73s 90ms/step - loss: 0.0319 - accuracy: 0.9915 - val_loss: 0.0425 - val_accuracy: 0.9879\n",
      "Epoch 5/10\n",
      "807/807 [==============================] - 73s 90ms/step - loss: 0.0234 - accuracy: 0.9938 - val_loss: 0.0382 - val_accuracy: 0.9883\n",
      "Epoch 6/10\n",
      "807/807 [==============================] - 76s 94ms/step - loss: 0.0169 - accuracy: 0.9958 - val_loss: 0.0391 - val_accuracy: 0.9886\n",
      "Epoch 7/10\n",
      "807/807 [==============================] - 74s 92ms/step - loss: 0.0115 - accuracy: 0.9973 - val_loss: 0.0380 - val_accuracy: 0.9885\n",
      "Epoch 8/10\n",
      "807/807 [==============================] - 75s 93ms/step - loss: 0.0081 - accuracy: 0.9983 - val_loss: 0.0376 - val_accuracy: 0.9891\n",
      "Epoch 9/10\n",
      "807/807 [==============================] - 80s 99ms/step - loss: 0.0057 - accuracy: 0.9990 - val_loss: 0.0393 - val_accuracy: 0.9888\n",
      "Epoch 10/10\n",
      "807/807 [==============================] - 80s 99ms/step - loss: 0.0047 - accuracy: 0.9992 - val_loss: 0.0385 - val_accuracy: 0.9890\n"
     ]
    }
   ],
   "source": [
    "import numpy as np\n",
    "import matplotlib.pyplot as plt\n",
    "from keras.models import Sequential\n",
    "from keras.layers import Dense, Dropout, Activation, Flatten\n",
    "from keras.layers import Conv2D, MaxPooling2D\n",
    "from keras.utils import np_utils\n",
    "from keras.datasets import mnist\n",
    "\n",
    "(X_train, y_train), (X_test, y_test) = mnist.load_data()\n",
    "X_val, y_val = X_train[50000:60000,:], y_train[50000:60000]\n",
    "X_train, y_train = X_train[:50000,:], y_train[:50000]\n",
    "print(X_train.shape)\n",
    "X_train = X_train.reshape(X_train.shape[0], 28, 28, 1)\n",
    "X_val = X_val.reshape(X_val.shape[0], 28, 28, 1)\n",
    "X_test = X_test.reshape(X_test.shape[0], 28, 28, 1)\n",
    "\n",
    "Y_train = np_utils.to_categorical(y_train, 10)\n",
    "Y_val = np_utils.to_categorical(y_val, 10)\n",
    "Y_test = np_utils.to_categorical(y_test, 10)\n",
    "print('Y ban dau: ', y_train)\n",
    "print('Y sau: ', Y_train)\n",
    "model = Sequential()\n",
    "model.add(Conv2D(32, (3, 3), activation = 'sigmoid', input_shape = (28, 28, 1)))\n",
    "model.add(Conv2D(32, (3, 3), activation = 'sigmoid'))\n",
    "model.add(MaxPooling2D(pool_size = (2, 2)))\n",
    "model.add(Flatten())\n",
    "model.add(Dense(128, activation = 'sigmoid'))\n",
    "model.add(Dense(10, activation = 'softmax'))\n",
    "model.compile(loss = 'categorical_crossentropy', optimizer = 'adam', metrics = ['accuracy'])\n",
    "H = model.fit(X_train, Y_train, validation_data = (X_val, Y_val), batch_size = 32, epochs = 10, verbose = 1)\n"
   ]
  },
  {
   "cell_type": "code",
   "execution_count": 2,
   "id": "8c452f30",
   "metadata": {},
   "outputs": [
    {
     "name": "stdout",
     "output_type": "stream",
     "text": [
      "{'loss': [0.4259287416934967, 0.0744510069489479, 0.04679654911160469, 0.03188399598002434, 0.023372195661067963, 0.016870666295289993, 0.011493305675685406, 0.008085984736680984, 0.0057050976902246475, 0.004698004573583603], 'accuracy': [0.8862199783325195, 0.9799200296401978, 0.9871000051498413, 0.9915400147438049, 0.9937599897384644, 0.9958400130271912, 0.9973000288009644, 0.9982600212097168, 0.9989799857139587, 0.9992200136184692], 'val_loss': [0.09455451369285583, 0.059621118009090424, 0.04826654866337776, 0.04245379939675331, 0.03823940455913544, 0.03912801668047905, 0.03802286833524704, 0.03757484257221222, 0.03928939253091812, 0.03852284699678421], 'val_accuracy': [0.9775000214576721, 0.9847999811172485, 0.9868999719619751, 0.9879000186920166, 0.9883000254631042, 0.9886000156402588, 0.9884999990463257, 0.9890999794006348, 0.9887999892234802, 0.9890000224113464]}\n",
      "[0.03449198231101036, 0.9890000224113464]\n"
     ]
    },
    {
     "data": {
      "image/png": "[encoded data removed]",
      "text/plain": [
       "<Figure size 432x288 with 1 Axes>"
      ]
     },
     "metadata": {
      "needs_background": "light"
     },
     "output_type": "display_data"
    }
   ],
   "source": [
    "fig = plt.figure()\n",
    "numOfEpoch = 10\n",
    "print(H.history)\n",
    "plt.plot(np.arange(0, numOfEpoch), H.history['loss'], label = 'training loss')\n",
    "plt.plot(np.arange(0, numOfEpoch), H.history['val_loss'], label = 'validation loss')\n",
    "plt.plot(np.arange(0, numOfEpoch), H.history['accuracy'], label = 'accuracy')\n",
    "plt.plot(np.arange(0, numOfEpoch), H.history['val_accuracy'], label = 'validation accuracy')\n",
    "plt.title('Accuracy and Loss')\n",
    "plt.xlabel('Epoch')\n",
    "plt.ylabel('Accuracy|Loss')\n",
    "plt.legend()\n",
    "score = model.evaluate(X_test, Y_test, verbose = 0)\n",
    "print(score)"
   ]
  },
  {
   "cell_type": "code",
   "execution_count": 4,
   "id": "87526a59",
   "metadata": {},
   "outputs": [
    {
     "name": "stdout",
     "output_type": "stream",
     "text": [
      "Gia tri du doan:  9\n"
     ]
    },
    {
     "data": {
      "image/png": "[encoded data removed]",
      "text/plain": [
       "<Figure size 432x288 with 1 Axes>"
      ]
     },
     "metadata": {
      "needs_background": "light"
     },
     "output_type": "display_data"
    }
   ],
   "source": [
    "a = 999\n",
    "\n",
    "plt.imshow(X_test[a].reshape(28, 28), cmap = 'gray')\n",
    "y_predict = model.predict(X_test[a].reshape(1, 28, 28, 1))\n",
    "print('Gia tri du doan: ', np.argmax(y_predict))"
   ]
  }
 ],
 "metadata": {
  "kernelspec": {
   "display_name": "Python 3 (ipykernel)",
   "language": "python",
   "name": "python3"
  },
  "language_info": {
   "codemirror_mode": {
    "name": "ipython",
    "version": 3
   },
   "file_extension": ".py",
   "mimetype": "text/x-python",
   "name": "python",
   "nbconvert_exporter": "python",
   "pygments_lexer": "ipython3",
   "version": "3.9.7"
  }
 },
 "nbformat": 4,
 "nbformat_minor": 5
}
